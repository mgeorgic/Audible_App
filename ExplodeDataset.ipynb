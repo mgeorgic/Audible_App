{
 "cells": [
  {
   "cell_type": "code",
   "execution_count": 74,
   "metadata": {},
   "outputs": [],
   "source": [
    "import os\n",
    "import pandas as pd\n",
    "import numpy as np\n",
    "import random\n",
    "import warnings\n",
    "warnings.filterwarnings('ignore')"
   ]
  },
  {
   "cell_type": "code",
   "execution_count": 75,
   "metadata": {},
   "outputs": [],
   "source": [
    "## Load Dataset\n",
    "dfDataSet = pd.read_csv(\"dataset.csv\")"
   ]
  },
  {
   "cell_type": "code",
   "execution_count": 76,
   "metadata": {},
   "outputs": [],
   "source": [
    "## Load Income Table and read it into a dictionary\n",
    "dfIncome = pd.read_csv(\"dataset_income.csv\")\n",
    "dfIncome = dfIncome.reset_index(drop=True)\n",
    "dict_Income = {}\n",
    "for index, row in dfIncome.iterrows():\n",
    "    dict_Income[int(row['Age'])] = int(row['Income'])"
   ]
  },
  {
   "cell_type": "code",
   "execution_count": 77,
   "metadata": {},
   "outputs": [],
   "source": [
    "## Load Job Table and read it into a dictionary\n",
    "dfJob = pd.read_csv(\"dataset_job.csv\")\n",
    "dfJob = dfJob.reset_index(drop=True)\n",
    "dfJob.head()\n",
    "dict_Job = {}\n",
    "for index, row in dfJob.iterrows():\n",
    "    dict_Job[row['Job']] = int(row['AverageSalary'])"
   ]
  },
  {
   "cell_type": "code",
   "execution_count": 78,
   "metadata": {},
   "outputs": [],
   "source": [
    "## Extract only valid columns from dataset into new dataframe\n",
    "validColumns = [col for col in dfDataSet if \"Review\" not in col]\n",
    "dfDataSetNoReview = dfDataSet[validColumns]"
   ]
  },
  {
   "cell_type": "code",
   "execution_count": 79,
   "metadata": {},
   "outputs": [],
   "source": [
    "## Remove dollar ($) symbol from price column\n",
    "def RemoveDollarSymbol(col):\n",
    "    value = col.values\n",
    "    if '$' in str(value):\n",
    "        return(col.map(lambda x: x.lstrip('$')))\n",
    "    else:\n",
    "        return(value)\n",
    "\n",
    "## Get random age from between 18 to 75 years\n",
    "def GetAge():\n",
    "    return(random.randrange(18, 75))\n",
    "\n",
    "## Get random gender\n",
    "## 'gender' list/variable can also be changed to numeric such as gender = [1,2]\n",
    "def GetGender():\n",
    "    gender = ['Male','Female']\n",
    "    random_index = random.randrange(len(gender))\n",
    "    return(gender[random_index])\n",
    "\n",
    "## Get Income from dict_Income based on 'Age' key\n",
    "def GetIncome(dAge):\n",
    "    randrange = random.randrange(5)\n",
    "    dAge = int(dAge)\n",
    "    if dAge in dict_Income:\n",
    "\n",
    "        # if randomly selected number (randrange) is 0 or 5, multiply income by 2\n",
    "        # ...just to make income range randomly diversified\n",
    "        if randrange==0 or 5:\n",
    "            return(dict_Income[dAge]*2)\n",
    "        else:\n",
    "            return(dict_Income[dAge])            \n",
    "    else:\n",
    "        return(10000)\n",
    "\n",
    "## Get kind of Job based on Income\n",
    "def GetJob(income):\n",
    "    percDiff = income * 0.03\n",
    "    minDiff = income - percDiff # minimum range\n",
    "    maxDiff = income + percDiff # maximum range\n",
    "\n",
    "    jobList = []\n",
    "    for job,salary in dict_Job.items():\n",
    "        # if salary falls within acceptable range, append job description to jobList \n",
    "        if salary >= minDiff and salary <= maxDiff: jobList.append(job)\n",
    "\n",
    "    if len(jobList)==0:\n",
    "        # if jobList is empty, then return \"Other\" as job title\n",
    "        return('Other')\n",
    "    elif len(jobList)==1:\n",
    "        # if only 1 jobList, then return it as job title\n",
    "        return(jobList[0])\n",
    "    elif len(jobList)>1:\n",
    "        # if jobList is more than 1, shuffle it and return 1st on the JobList\n",
    "        random.shuffle(jobList)\n",
    "        return(jobList[0])\n",
    "        \n",
    "## Randomly get zipcode between 80201 and 80239 (State of Colorado only)\n",
    "def GetZipCode():\n",
    "    randrange = random.randrange(80201,80239)\n",
    "    return(randrange)\n"
   ]
  },
  {
   "cell_type": "code",
   "execution_count": 80,
   "metadata": {},
   "outputs": [],
   "source": [
    "## If any of these Columns have null values, then drop the record\n",
    "EmptyColumnCells_ToDrop = ['Audiobook_Type','Categories','Rating']\n",
    "dfDataSetNoReview.dropna(subset=EmptyColumnCells_ToDrop, inplace=True)\n",
    "\n",
    "## Remove dollar($) symbol from price column\n",
    "dfDataSetNoReview['Price'] = RemoveDollarSymbol(dfDataSetNoReview['Price'])\n",
    "\n",
    "## Convert Rating and Price columns to type 'Float'\n",
    "dfDataSetNoReview[['Rating','Price']] = dfDataSetNoReview[['Rating','Price']].astype('float')\n",
    "dfDataSetNoReview = dfDataSetNoReview.reset_index(drop=True)"
   ]
  },
  {
   "cell_type": "code",
   "execution_count": 81,
   "metadata": {},
   "outputs": [],
   "source": [
    "## Initial columns to use with the 'Review' columns\n",
    "initColumns = [col for col in dfDataSetNoReview]\n",
    "## Add a single 'Review' column\n",
    "initColumns.append(\"Review\")\n",
    "\n",
    "## All the new columns to add to the exploded dataset\n",
    "extraColumns = [\"Gender\", \"Age\", \"Income\",\"ZipCode\",\"Profession\"]"
   ]
  },
  {
   "cell_type": "code",
   "execution_count": 82,
   "metadata": {},
   "outputs": [],
   "source": [
    "## Initialize low and high rating list needed to populate the new exploded dataframe\n",
    "low_rating = []\n",
    "high_rating = []\n",
    "\n",
    "## Start looping through dataframe\n",
    "for index, row in dfDataSetNoReview.iterrows():\n",
    "\n",
    "    # Get rating (<=5 max) from dataframe\n",
    "    rating = row['Rating']\n",
    "\n",
    "    # Only do something if it is of type integer/float \n",
    "    if type(rating) == int or float:\n",
    "        \n",
    "        # Percentage of good rating  ## Example rating divided by maximum rating (4.7/5) * 100\n",
    "        rating_1 = int(((rating/5)*100))\n",
    "\n",
    "        # Percentage of poor rating (remainder)\n",
    "        rating_0 = 100 - rating_1\n",
    "       \n",
    "        dict_low_rating = {}\n",
    "        dict_high_rating = {}\n",
    "        \n",
    "        # Loop thru low rating and append record to \"dict_low_rating\" dictionary\n",
    "        # row['Review'] = 'Low' can also be changed to row['Review'] = 0\n",
    "        for ndx in range(rating_0):\n",
    "            row['Review'] = 'Low'\n",
    "            for col in initColumns:\n",
    "                dict_low_rating[col] = row[col]\n",
    "            if 'Review' in dict_low_rating: low_rating.append(dict_low_rating)\n",
    "\n",
    "        # Loop thru high rating and append record to \"dict_high_rating\" dictionary\n",
    "        # row['Review'] = 'High' can also be changed to row['Review'] = 1                \n",
    "        for ndx in range(rating_1):\n",
    "            row['Review'] = 'High'\n",
    "            for col in initColumns:\n",
    "                dict_high_rating[col] = row[col]\n",
    "            if 'Review' in dict_high_rating: high_rating.append(dict_high_rating)            \n",
    "\n",
    "# concatenate the 2 list of records in 'high_rating' and 'low_rating'\n",
    "# use it to populate a new dataframe (dfDataSetExploded) \n",
    "dfDataSetExploded = pd.DataFrame(high_rating + low_rating)"
   ]
  },
  {
   "cell_type": "code",
   "execution_count": 84,
   "metadata": {},
   "outputs": [],
   "source": [
    "## If new dataframe (dfDataSetExploded) contain records, then\n",
    "## ...fill in the blanks for Gender, Age, Income, ZipCode and Profession\n",
    "\n",
    "if len(dfDataSetExploded) > 0:\n",
    "    dfDataSetExploded[extraColumns] = None\n",
    "    dfDataSetExploded = dfDataSetExploded.reset_index(drop=True)\n",
    "    \n",
    "    for index in range(len(dfDataSetExploded)):\n",
    "        dfDataSetExploded.at[index,'Gender'] = GetGender()\n",
    "        dfDataSetExploded.at[index,'Age'] = GetAge()\n",
    "        dfDataSetExploded.at[index,'Income'] = GetIncome(dfDataSetExploded.at[index,'Age'])\n",
    "        dfDataSetExploded.at[index,'ZipCode'] = GetZipCode()\n",
    "        dfDataSetExploded.at[index,'Profession'] = GetJob(dfDataSetExploded.at[index,'Income'])\n",
    "\n",
    "    ##  Write out new dataframe (dfDataSetExploded) to a csv\n",
    "    dfDataSetExploded.to_csv('dataset_Exploded.csv', index=False)"
   ]
  },
  {
   "cell_type": "code",
   "execution_count": null,
   "metadata": {},
   "outputs": [],
   "source": []
  }
 ],
 "metadata": {
  "kernelspec": {
   "display_name": "Python 3",
   "language": "python",
   "name": "python3"
  },
  "language_info": {
   "codemirror_mode": {
    "name": "ipython",
    "version": 3
   },
   "file_extension": ".py",
   "mimetype": "text/x-python",
   "name": "python",
   "nbconvert_exporter": "python",
   "pygments_lexer": "ipython3",
   "version": "3.8.5"
  }
 },
 "nbformat": 4,
 "nbformat_minor": 4
}
