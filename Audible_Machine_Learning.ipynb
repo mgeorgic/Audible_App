{
 "cells": [
  {
   "cell_type": "markdown",
   "metadata": {},
   "source": [
    "# Audible App Machine Learning Predictions"
   ]
  },
  {
   "cell_type": "code",
   "execution_count": 133,
   "metadata": {},
   "outputs": [],
   "source": [
    "import warnings\n",
    "warnings.simplefilter('ignore')\n",
    "\n",
    "# %matplotlib inline\n",
    "import matplotlib.pyplot as plt\n",
    "import numpy as np\n",
    "import pandas as pd\n",
    "pd.get_option(\"display.max_columns\")\n",
    "import sklearn\n",
    "\n",
    "import category_encoders as ce\n",
    "from sklearn.preprocessing import OneHotEncoder\n",
    "from sklearn.ensemble import RandomForestClassifier\n",
    "from sklearn.model_selection import train_test_split\n",
    "from sklearn.model_selection import GridSearchCV\n",
    "from sklearn.neighbors import KNeighborsClassifier\n",
    "from sklearn.preprocessing import StandardScaler\n",
    "from sklearn import tree"
   ]
  },
  {
   "cell_type": "markdown",
   "metadata": {},
   "source": [
    "## Dataset: dataset_Exploded.csv¶\n",
    "\n",
    "Initial Source: Rohit Dass (6/14/2021). \"Audible Dataser\", https://www.kaggle.com/rohitdass/audible-dataset.\n",
    "\n",
    "Description: Initial full dataset for audible dataset recommendation engine. Total books 2200+(Including Duplicates).\n",
    "             Then, using pandas 100 random human demographics were generated and merged to the initial source. The                          generated demographics were then merged to the initial source to create the \"dataset_Exploded\" dataset. After this              final dataset was cleaned. \n",
    "\n",
    "Variables/Columns GENDER: Gender Male or Female AGE: Age Range 18-75 ZIP CODE: random 5 digit in 80201,80239 range INCOME: <200000K\n",
    "\n"
   ]
  },
  {
   "cell_type": "code",
   "execution_count": 2,
   "metadata": {},
   "outputs": [
    {
     "data": {
      "text/html": [
       "<div>\n",
       "<style scoped>\n",
       "    .dataframe tbody tr th:only-of-type {\n",
       "        vertical-align: middle;\n",
       "    }\n",
       "\n",
       "    .dataframe tbody tr th {\n",
       "        vertical-align: top;\n",
       "    }\n",
       "\n",
       "    .dataframe thead th {\n",
       "        text-align: right;\n",
       "    }\n",
       "</style>\n",
       "<table border=\"1\" class=\"dataframe\">\n",
       "  <thead>\n",
       "    <tr style=\"text-align: right;\">\n",
       "      <th></th>\n",
       "      <th>Book Title</th>\n",
       "      <th>Book Subtitle</th>\n",
       "      <th>Book Author</th>\n",
       "      <th>Book Narrator</th>\n",
       "      <th>Audio Runtime</th>\n",
       "      <th>Audiobook_Type</th>\n",
       "      <th>Categories</th>\n",
       "      <th>Categories Encoded</th>\n",
       "      <th>Rating</th>\n",
       "      <th>Total No. of Ratings</th>\n",
       "      <th>Price</th>\n",
       "      <th>Review</th>\n",
       "      <th>Gender</th>\n",
       "      <th>Age</th>\n",
       "      <th>Income</th>\n",
       "      <th>ZipCode</th>\n",
       "      <th>Profession</th>\n",
       "    </tr>\n",
       "  </thead>\n",
       "  <tbody>\n",
       "    <tr>\n",
       "      <th>0</th>\n",
       "      <td>Born a Crime</td>\n",
       "      <td>Stories from a South African Childhood</td>\n",
       "      <td>Trevor Noah</td>\n",
       "      <td>Trevor Noah</td>\n",
       "      <td>8 hrs and 44 mins</td>\n",
       "      <td>Unabridged Audiobook</td>\n",
       "      <td>Arts &amp; Entertainment</td>\n",
       "      <td>7</td>\n",
       "      <td>4.9</td>\n",
       "      <td>182445</td>\n",
       "      <td>24.95</td>\n",
       "      <td>High</td>\n",
       "      <td>Female</td>\n",
       "      <td>67</td>\n",
       "      <td>102000</td>\n",
       "      <td>80207</td>\n",
       "      <td>Industrial Engineer</td>\n",
       "    </tr>\n",
       "    <tr>\n",
       "      <th>1</th>\n",
       "      <td>Born a Crime</td>\n",
       "      <td>Stories from a South African Childhood</td>\n",
       "      <td>Trevor Noah</td>\n",
       "      <td>Trevor Noah</td>\n",
       "      <td>8 hrs and 44 mins</td>\n",
       "      <td>Unabridged Audiobook</td>\n",
       "      <td>Arts &amp; Entertainment</td>\n",
       "      <td>7</td>\n",
       "      <td>4.9</td>\n",
       "      <td>182445</td>\n",
       "      <td>24.95</td>\n",
       "      <td>High</td>\n",
       "      <td>Female</td>\n",
       "      <td>67</td>\n",
       "      <td>102000</td>\n",
       "      <td>80236</td>\n",
       "      <td>Electrical Engineer</td>\n",
       "    </tr>\n",
       "    <tr>\n",
       "      <th>2</th>\n",
       "      <td>Born a Crime</td>\n",
       "      <td>Stories from a South African Childhood</td>\n",
       "      <td>Trevor Noah</td>\n",
       "      <td>Trevor Noah</td>\n",
       "      <td>8 hrs and 44 mins</td>\n",
       "      <td>Unabridged Audiobook</td>\n",
       "      <td>Arts &amp; Entertainment</td>\n",
       "      <td>7</td>\n",
       "      <td>4.9</td>\n",
       "      <td>182445</td>\n",
       "      <td>24.95</td>\n",
       "      <td>High</td>\n",
       "      <td>Female</td>\n",
       "      <td>65</td>\n",
       "      <td>111200</td>\n",
       "      <td>80217</td>\n",
       "      <td>Nurse Practitioner</td>\n",
       "    </tr>\n",
       "    <tr>\n",
       "      <th>3</th>\n",
       "      <td>Born a Crime</td>\n",
       "      <td>Stories from a South African Childhood</td>\n",
       "      <td>Trevor Noah</td>\n",
       "      <td>Trevor Noah</td>\n",
       "      <td>8 hrs and 44 mins</td>\n",
       "      <td>Unabridged Audiobook</td>\n",
       "      <td>Arts &amp; Entertainment</td>\n",
       "      <td>7</td>\n",
       "      <td>4.9</td>\n",
       "      <td>182445</td>\n",
       "      <td>24.95</td>\n",
       "      <td>High</td>\n",
       "      <td>Male</td>\n",
       "      <td>52</td>\n",
       "      <td>107040</td>\n",
       "      <td>80226</td>\n",
       "      <td>Physician Assistant</td>\n",
       "    </tr>\n",
       "    <tr>\n",
       "      <th>4</th>\n",
       "      <td>Born a Crime</td>\n",
       "      <td>Stories from a South African Childhood</td>\n",
       "      <td>Trevor Noah</td>\n",
       "      <td>Trevor Noah</td>\n",
       "      <td>8 hrs and 44 mins</td>\n",
       "      <td>Unabridged Audiobook</td>\n",
       "      <td>Arts &amp; Entertainment</td>\n",
       "      <td>7</td>\n",
       "      <td>4.9</td>\n",
       "      <td>182445</td>\n",
       "      <td>24.95</td>\n",
       "      <td>High</td>\n",
       "      <td>Male</td>\n",
       "      <td>50</td>\n",
       "      <td>116000</td>\n",
       "      <td>80229</td>\n",
       "      <td>Computer Hardware Engineer</td>\n",
       "    </tr>\n",
       "  </tbody>\n",
       "</table>\n",
       "</div>"
      ],
      "text/plain": [
       "     Book Title                           Book Subtitle  Book Author  \\\n",
       "0  Born a Crime  Stories from a South African Childhood  Trevor Noah   \n",
       "1  Born a Crime  Stories from a South African Childhood  Trevor Noah   \n",
       "2  Born a Crime  Stories from a South African Childhood  Trevor Noah   \n",
       "3  Born a Crime  Stories from a South African Childhood  Trevor Noah   \n",
       "4  Born a Crime  Stories from a South African Childhood  Trevor Noah   \n",
       "\n",
       "  Book Narrator      Audio Runtime        Audiobook_Type  \\\n",
       "0   Trevor Noah  8 hrs and 44 mins  Unabridged Audiobook   \n",
       "1   Trevor Noah  8 hrs and 44 mins  Unabridged Audiobook   \n",
       "2   Trevor Noah  8 hrs and 44 mins  Unabridged Audiobook   \n",
       "3   Trevor Noah  8 hrs and 44 mins  Unabridged Audiobook   \n",
       "4   Trevor Noah  8 hrs and 44 mins  Unabridged Audiobook   \n",
       "\n",
       "             Categories  Categories Encoded  Rating  Total No. of Ratings  \\\n",
       "0  Arts & Entertainment                   7     4.9                182445   \n",
       "1  Arts & Entertainment                   7     4.9                182445   \n",
       "2  Arts & Entertainment                   7     4.9                182445   \n",
       "3  Arts & Entertainment                   7     4.9                182445   \n",
       "4  Arts & Entertainment                   7     4.9                182445   \n",
       "\n",
       "   Price Review  Gender  Age  Income  ZipCode                  Profession  \n",
       "0  24.95   High  Female   67  102000    80207         Industrial Engineer  \n",
       "1  24.95   High  Female   67  102000    80236         Electrical Engineer  \n",
       "2  24.95   High  Female   65  111200    80217          Nurse Practitioner  \n",
       "3  24.95   High    Male   52  107040    80226         Physician Assistant  \n",
       "4  24.95   High    Male   50  116000    80229  Computer Hardware Engineer  "
      ]
     },
     "execution_count": 2,
     "metadata": {},
     "output_type": "execute_result"
    }
   ],
   "source": [
    "# Read the csv file into a pandas DataFrame\n",
    "\n",
    "audible= pd.read_csv('dataset_Exploded.csv')\n",
    "audible.head()"
   ]
  },
  {
   "cell_type": "code",
   "execution_count": 22,
   "metadata": {},
   "outputs": [
    {
     "data": {
      "text/html": [
       "<div>\n",
       "<style scoped>\n",
       "    .dataframe tbody tr th:only-of-type {\n",
       "        vertical-align: middle;\n",
       "    }\n",
       "\n",
       "    .dataframe tbody tr th {\n",
       "        vertical-align: top;\n",
       "    }\n",
       "\n",
       "    .dataframe thead th {\n",
       "        text-align: right;\n",
       "    }\n",
       "</style>\n",
       "<table border=\"1\" class=\"dataframe\">\n",
       "  <thead>\n",
       "    <tr style=\"text-align: right;\">\n",
       "      <th></th>\n",
       "      <th>Gender_Female</th>\n",
       "      <th>Rating</th>\n",
       "      <th>ZipCode</th>\n",
       "      <th>Categories_Arts &amp; Entertainment</th>\n",
       "      <th>Categories_Biographies &amp; Memoirs</th>\n",
       "      <th>Categories_Business &amp; Careers</th>\n",
       "      <th>Categories_Children's Audiobooks</th>\n",
       "      <th>Categories_Computers &amp; Technology</th>\n",
       "      <th>Categories_Education &amp; Learning</th>\n",
       "      <th>Categories_Erotica</th>\n",
       "      <th>...</th>\n",
       "      <th>Categories_Money &amp; Finance</th>\n",
       "      <th>Categories_Mystery, Thriller &amp; Suspense</th>\n",
       "      <th>Categories_Politics &amp; Social Sciences</th>\n",
       "      <th>Categories_Relationships, Parenting &amp; Personal Development</th>\n",
       "      <th>Categories_Religion &amp; Spirituality</th>\n",
       "      <th>Categories_Romance</th>\n",
       "      <th>Categories_Science &amp; Engineering</th>\n",
       "      <th>Categories_Science Fiction &amp; Fantasy</th>\n",
       "      <th>Categories_Teen</th>\n",
       "      <th>Categories_Travel &amp; Tourism</th>\n",
       "    </tr>\n",
       "  </thead>\n",
       "  <tbody>\n",
       "    <tr>\n",
       "      <th>0</th>\n",
       "      <td>1</td>\n",
       "      <td>4.9</td>\n",
       "      <td>80207</td>\n",
       "      <td>1</td>\n",
       "      <td>0</td>\n",
       "      <td>0</td>\n",
       "      <td>0</td>\n",
       "      <td>0</td>\n",
       "      <td>0</td>\n",
       "      <td>0</td>\n",
       "      <td>...</td>\n",
       "      <td>0</td>\n",
       "      <td>0</td>\n",
       "      <td>0</td>\n",
       "      <td>0</td>\n",
       "      <td>0</td>\n",
       "      <td>0</td>\n",
       "      <td>0</td>\n",
       "      <td>0</td>\n",
       "      <td>0</td>\n",
       "      <td>0</td>\n",
       "    </tr>\n",
       "    <tr>\n",
       "      <th>1</th>\n",
       "      <td>1</td>\n",
       "      <td>4.9</td>\n",
       "      <td>80236</td>\n",
       "      <td>1</td>\n",
       "      <td>0</td>\n",
       "      <td>0</td>\n",
       "      <td>0</td>\n",
       "      <td>0</td>\n",
       "      <td>0</td>\n",
       "      <td>0</td>\n",
       "      <td>...</td>\n",
       "      <td>0</td>\n",
       "      <td>0</td>\n",
       "      <td>0</td>\n",
       "      <td>0</td>\n",
       "      <td>0</td>\n",
       "      <td>0</td>\n",
       "      <td>0</td>\n",
       "      <td>0</td>\n",
       "      <td>0</td>\n",
       "      <td>0</td>\n",
       "    </tr>\n",
       "    <tr>\n",
       "      <th>2</th>\n",
       "      <td>1</td>\n",
       "      <td>4.9</td>\n",
       "      <td>80217</td>\n",
       "      <td>1</td>\n",
       "      <td>0</td>\n",
       "      <td>0</td>\n",
       "      <td>0</td>\n",
       "      <td>0</td>\n",
       "      <td>0</td>\n",
       "      <td>0</td>\n",
       "      <td>...</td>\n",
       "      <td>0</td>\n",
       "      <td>0</td>\n",
       "      <td>0</td>\n",
       "      <td>0</td>\n",
       "      <td>0</td>\n",
       "      <td>0</td>\n",
       "      <td>0</td>\n",
       "      <td>0</td>\n",
       "      <td>0</td>\n",
       "      <td>0</td>\n",
       "    </tr>\n",
       "    <tr>\n",
       "      <th>3</th>\n",
       "      <td>0</td>\n",
       "      <td>4.9</td>\n",
       "      <td>80226</td>\n",
       "      <td>1</td>\n",
       "      <td>0</td>\n",
       "      <td>0</td>\n",
       "      <td>0</td>\n",
       "      <td>0</td>\n",
       "      <td>0</td>\n",
       "      <td>0</td>\n",
       "      <td>...</td>\n",
       "      <td>0</td>\n",
       "      <td>0</td>\n",
       "      <td>0</td>\n",
       "      <td>0</td>\n",
       "      <td>0</td>\n",
       "      <td>0</td>\n",
       "      <td>0</td>\n",
       "      <td>0</td>\n",
       "      <td>0</td>\n",
       "      <td>0</td>\n",
       "    </tr>\n",
       "    <tr>\n",
       "      <th>4</th>\n",
       "      <td>0</td>\n",
       "      <td>4.9</td>\n",
       "      <td>80229</td>\n",
       "      <td>1</td>\n",
       "      <td>0</td>\n",
       "      <td>0</td>\n",
       "      <td>0</td>\n",
       "      <td>0</td>\n",
       "      <td>0</td>\n",
       "      <td>0</td>\n",
       "      <td>...</td>\n",
       "      <td>0</td>\n",
       "      <td>0</td>\n",
       "      <td>0</td>\n",
       "      <td>0</td>\n",
       "      <td>0</td>\n",
       "      <td>0</td>\n",
       "      <td>0</td>\n",
       "      <td>0</td>\n",
       "      <td>0</td>\n",
       "      <td>0</td>\n",
       "    </tr>\n",
       "    <tr>\n",
       "      <th>...</th>\n",
       "      <td>...</td>\n",
       "      <td>...</td>\n",
       "      <td>...</td>\n",
       "      <td>...</td>\n",
       "      <td>...</td>\n",
       "      <td>...</td>\n",
       "      <td>...</td>\n",
       "      <td>...</td>\n",
       "      <td>...</td>\n",
       "      <td>...</td>\n",
       "      <td>...</td>\n",
       "      <td>...</td>\n",
       "      <td>...</td>\n",
       "      <td>...</td>\n",
       "      <td>...</td>\n",
       "      <td>...</td>\n",
       "      <td>...</td>\n",
       "      <td>...</td>\n",
       "      <td>...</td>\n",
       "      <td>...</td>\n",
       "      <td>...</td>\n",
       "    </tr>\n",
       "    <tr>\n",
       "      <th>192795</th>\n",
       "      <td>0</td>\n",
       "      <td>4.6</td>\n",
       "      <td>80204</td>\n",
       "      <td>0</td>\n",
       "      <td>0</td>\n",
       "      <td>0</td>\n",
       "      <td>0</td>\n",
       "      <td>0</td>\n",
       "      <td>0</td>\n",
       "      <td>0</td>\n",
       "      <td>...</td>\n",
       "      <td>0</td>\n",
       "      <td>0</td>\n",
       "      <td>0</td>\n",
       "      <td>0</td>\n",
       "      <td>0</td>\n",
       "      <td>0</td>\n",
       "      <td>0</td>\n",
       "      <td>0</td>\n",
       "      <td>0</td>\n",
       "      <td>1</td>\n",
       "    </tr>\n",
       "    <tr>\n",
       "      <th>192796</th>\n",
       "      <td>1</td>\n",
       "      <td>4.6</td>\n",
       "      <td>80215</td>\n",
       "      <td>0</td>\n",
       "      <td>0</td>\n",
       "      <td>0</td>\n",
       "      <td>0</td>\n",
       "      <td>0</td>\n",
       "      <td>0</td>\n",
       "      <td>0</td>\n",
       "      <td>...</td>\n",
       "      <td>0</td>\n",
       "      <td>0</td>\n",
       "      <td>0</td>\n",
       "      <td>0</td>\n",
       "      <td>0</td>\n",
       "      <td>0</td>\n",
       "      <td>0</td>\n",
       "      <td>0</td>\n",
       "      <td>0</td>\n",
       "      <td>1</td>\n",
       "    </tr>\n",
       "    <tr>\n",
       "      <th>192797</th>\n",
       "      <td>0</td>\n",
       "      <td>4.6</td>\n",
       "      <td>80214</td>\n",
       "      <td>0</td>\n",
       "      <td>0</td>\n",
       "      <td>0</td>\n",
       "      <td>0</td>\n",
       "      <td>0</td>\n",
       "      <td>0</td>\n",
       "      <td>0</td>\n",
       "      <td>...</td>\n",
       "      <td>0</td>\n",
       "      <td>0</td>\n",
       "      <td>0</td>\n",
       "      <td>0</td>\n",
       "      <td>0</td>\n",
       "      <td>0</td>\n",
       "      <td>0</td>\n",
       "      <td>0</td>\n",
       "      <td>0</td>\n",
       "      <td>1</td>\n",
       "    </tr>\n",
       "    <tr>\n",
       "      <th>192798</th>\n",
       "      <td>1</td>\n",
       "      <td>4.6</td>\n",
       "      <td>80223</td>\n",
       "      <td>0</td>\n",
       "      <td>0</td>\n",
       "      <td>0</td>\n",
       "      <td>0</td>\n",
       "      <td>0</td>\n",
       "      <td>0</td>\n",
       "      <td>0</td>\n",
       "      <td>...</td>\n",
       "      <td>0</td>\n",
       "      <td>0</td>\n",
       "      <td>0</td>\n",
       "      <td>0</td>\n",
       "      <td>0</td>\n",
       "      <td>0</td>\n",
       "      <td>0</td>\n",
       "      <td>0</td>\n",
       "      <td>0</td>\n",
       "      <td>1</td>\n",
       "    </tr>\n",
       "    <tr>\n",
       "      <th>192799</th>\n",
       "      <td>1</td>\n",
       "      <td>4.6</td>\n",
       "      <td>80237</td>\n",
       "      <td>0</td>\n",
       "      <td>0</td>\n",
       "      <td>0</td>\n",
       "      <td>0</td>\n",
       "      <td>0</td>\n",
       "      <td>0</td>\n",
       "      <td>0</td>\n",
       "      <td>...</td>\n",
       "      <td>0</td>\n",
       "      <td>0</td>\n",
       "      <td>0</td>\n",
       "      <td>0</td>\n",
       "      <td>0</td>\n",
       "      <td>0</td>\n",
       "      <td>0</td>\n",
       "      <td>0</td>\n",
       "      <td>0</td>\n",
       "      <td>1</td>\n",
       "    </tr>\n",
       "  </tbody>\n",
       "</table>\n",
       "<p>192800 rows × 25 columns</p>\n",
       "</div>"
      ],
      "text/plain": [
       "        Gender_Female  Rating  ZipCode  Categories_Arts & Entertainment  \\\n",
       "0                   1     4.9    80207                                1   \n",
       "1                   1     4.9    80236                                1   \n",
       "2                   1     4.9    80217                                1   \n",
       "3                   0     4.9    80226                                1   \n",
       "4                   0     4.9    80229                                1   \n",
       "...               ...     ...      ...                              ...   \n",
       "192795              0     4.6    80204                                0   \n",
       "192796              1     4.6    80215                                0   \n",
       "192797              0     4.6    80214                                0   \n",
       "192798              1     4.6    80223                                0   \n",
       "192799              1     4.6    80237                                0   \n",
       "\n",
       "        Categories_Biographies & Memoirs  Categories_Business & Careers  \\\n",
       "0                                      0                              0   \n",
       "1                                      0                              0   \n",
       "2                                      0                              0   \n",
       "3                                      0                              0   \n",
       "4                                      0                              0   \n",
       "...                                  ...                            ...   \n",
       "192795                                 0                              0   \n",
       "192796                                 0                              0   \n",
       "192797                                 0                              0   \n",
       "192798                                 0                              0   \n",
       "192799                                 0                              0   \n",
       "\n",
       "        Categories_Children's Audiobooks  Categories_Computers & Technology  \\\n",
       "0                                      0                                  0   \n",
       "1                                      0                                  0   \n",
       "2                                      0                                  0   \n",
       "3                                      0                                  0   \n",
       "4                                      0                                  0   \n",
       "...                                  ...                                ...   \n",
       "192795                                 0                                  0   \n",
       "192796                                 0                                  0   \n",
       "192797                                 0                                  0   \n",
       "192798                                 0                                  0   \n",
       "192799                                 0                                  0   \n",
       "\n",
       "        Categories_Education & Learning  Categories_Erotica  ...  \\\n",
       "0                                     0                   0  ...   \n",
       "1                                     0                   0  ...   \n",
       "2                                     0                   0  ...   \n",
       "3                                     0                   0  ...   \n",
       "4                                     0                   0  ...   \n",
       "...                                 ...                 ...  ...   \n",
       "192795                                0                   0  ...   \n",
       "192796                                0                   0  ...   \n",
       "192797                                0                   0  ...   \n",
       "192798                                0                   0  ...   \n",
       "192799                                0                   0  ...   \n",
       "\n",
       "        Categories_Money & Finance  Categories_Mystery, Thriller & Suspense  \\\n",
       "0                                0                                        0   \n",
       "1                                0                                        0   \n",
       "2                                0                                        0   \n",
       "3                                0                                        0   \n",
       "4                                0                                        0   \n",
       "...                            ...                                      ...   \n",
       "192795                           0                                        0   \n",
       "192796                           0                                        0   \n",
       "192797                           0                                        0   \n",
       "192798                           0                                        0   \n",
       "192799                           0                                        0   \n",
       "\n",
       "        Categories_Politics & Social Sciences  \\\n",
       "0                                           0   \n",
       "1                                           0   \n",
       "2                                           0   \n",
       "3                                           0   \n",
       "4                                           0   \n",
       "...                                       ...   \n",
       "192795                                      0   \n",
       "192796                                      0   \n",
       "192797                                      0   \n",
       "192798                                      0   \n",
       "192799                                      0   \n",
       "\n",
       "        Categories_Relationships, Parenting & Personal Development  \\\n",
       "0                                                       0            \n",
       "1                                                       0            \n",
       "2                                                       0            \n",
       "3                                                       0            \n",
       "4                                                       0            \n",
       "...                                                   ...            \n",
       "192795                                                  0            \n",
       "192796                                                  0            \n",
       "192797                                                  0            \n",
       "192798                                                  0            \n",
       "192799                                                  0            \n",
       "\n",
       "        Categories_Religion & Spirituality  Categories_Romance  \\\n",
       "0                                        0                   0   \n",
       "1                                        0                   0   \n",
       "2                                        0                   0   \n",
       "3                                        0                   0   \n",
       "4                                        0                   0   \n",
       "...                                    ...                 ...   \n",
       "192795                                   0                   0   \n",
       "192796                                   0                   0   \n",
       "192797                                   0                   0   \n",
       "192798                                   0                   0   \n",
       "192799                                   0                   0   \n",
       "\n",
       "        Categories_Science & Engineering  \\\n",
       "0                                      0   \n",
       "1                                      0   \n",
       "2                                      0   \n",
       "3                                      0   \n",
       "4                                      0   \n",
       "...                                  ...   \n",
       "192795                                 0   \n",
       "192796                                 0   \n",
       "192797                                 0   \n",
       "192798                                 0   \n",
       "192799                                 0   \n",
       "\n",
       "        Categories_Science Fiction & Fantasy  Categories_Teen  \\\n",
       "0                                          0                0   \n",
       "1                                          0                0   \n",
       "2                                          0                0   \n",
       "3                                          0                0   \n",
       "4                                          0                0   \n",
       "...                                      ...              ...   \n",
       "192795                                     0                0   \n",
       "192796                                     0                0   \n",
       "192797                                     0                0   \n",
       "192798                                     0                0   \n",
       "192799                                     0                0   \n",
       "\n",
       "        Categories_Travel & Tourism  \n",
       "0                                 0  \n",
       "1                                 0  \n",
       "2                                 0  \n",
       "3                                 0  \n",
       "4                                 0  \n",
       "...                             ...  \n",
       "192795                            1  \n",
       "192796                            1  \n",
       "192797                            1  \n",
       "192798                            1  \n",
       "192799                            1  \n",
       "\n",
       "[192800 rows x 25 columns]"
      ]
     },
     "execution_count": 22,
     "metadata": {},
     "output_type": "execute_result"
    }
   ],
   "source": [
    "tmp = audible[['Categories', 'Gender_Female', 'Rating', 'ZipCode']]\n",
    "tmp.dtypes\n",
    "pd.get_dummies(tmp)"
   ]
  },
  {
   "cell_type": "code",
   "execution_count": 27,
   "metadata": {
    "scrolled": true
   },
   "outputs": [
    {
     "data": {
      "text/html": [
       "<div>\n",
       "<style scoped>\n",
       "    .dataframe tbody tr th:only-of-type {\n",
       "        vertical-align: middle;\n",
       "    }\n",
       "\n",
       "    .dataframe tbody tr th {\n",
       "        vertical-align: top;\n",
       "    }\n",
       "\n",
       "    .dataframe thead th {\n",
       "        text-align: right;\n",
       "    }\n",
       "</style>\n",
       "<table border=\"1\" class=\"dataframe\">\n",
       "  <thead>\n",
       "    <tr style=\"text-align: right;\">\n",
       "      <th></th>\n",
       "      <th>Categories Encoded</th>\n",
       "      <th>Rating</th>\n",
       "      <th>Total No. of Ratings</th>\n",
       "      <th>Price</th>\n",
       "      <th>Age</th>\n",
       "      <th>Income</th>\n",
       "      <th>ZipCode</th>\n",
       "      <th>Gender_Female</th>\n",
       "      <th>Review_High</th>\n",
       "      <th>Review_Low</th>\n",
       "      <th>...</th>\n",
       "      <th>Categories_Money &amp; Finance</th>\n",
       "      <th>Categories_Mystery, Thriller &amp; Suspense</th>\n",
       "      <th>Categories_Politics &amp; Social Sciences</th>\n",
       "      <th>Categories_Relationships, Parenting &amp; Personal Development</th>\n",
       "      <th>Categories_Religion &amp; Spirituality</th>\n",
       "      <th>Categories_Romance</th>\n",
       "      <th>Categories_Science &amp; Engineering</th>\n",
       "      <th>Categories_Science Fiction &amp; Fantasy</th>\n",
       "      <th>Categories_Teen</th>\n",
       "      <th>Categories_Travel &amp; Tourism</th>\n",
       "    </tr>\n",
       "  </thead>\n",
       "  <tbody>\n",
       "    <tr>\n",
       "      <th>0</th>\n",
       "      <td>7</td>\n",
       "      <td>4.9</td>\n",
       "      <td>182445</td>\n",
       "      <td>24.95</td>\n",
       "      <td>67</td>\n",
       "      <td>102000</td>\n",
       "      <td>80207</td>\n",
       "      <td>1</td>\n",
       "      <td>1</td>\n",
       "      <td>0</td>\n",
       "      <td>...</td>\n",
       "      <td>0</td>\n",
       "      <td>0</td>\n",
       "      <td>0</td>\n",
       "      <td>0</td>\n",
       "      <td>0</td>\n",
       "      <td>0</td>\n",
       "      <td>0</td>\n",
       "      <td>0</td>\n",
       "      <td>0</td>\n",
       "      <td>0</td>\n",
       "    </tr>\n",
       "    <tr>\n",
       "      <th>1</th>\n",
       "      <td>7</td>\n",
       "      <td>4.9</td>\n",
       "      <td>182445</td>\n",
       "      <td>24.95</td>\n",
       "      <td>67</td>\n",
       "      <td>102000</td>\n",
       "      <td>80236</td>\n",
       "      <td>1</td>\n",
       "      <td>1</td>\n",
       "      <td>0</td>\n",
       "      <td>...</td>\n",
       "      <td>0</td>\n",
       "      <td>0</td>\n",
       "      <td>0</td>\n",
       "      <td>0</td>\n",
       "      <td>0</td>\n",
       "      <td>0</td>\n",
       "      <td>0</td>\n",
       "      <td>0</td>\n",
       "      <td>0</td>\n",
       "      <td>0</td>\n",
       "    </tr>\n",
       "    <tr>\n",
       "      <th>2</th>\n",
       "      <td>7</td>\n",
       "      <td>4.9</td>\n",
       "      <td>182445</td>\n",
       "      <td>24.95</td>\n",
       "      <td>65</td>\n",
       "      <td>111200</td>\n",
       "      <td>80217</td>\n",
       "      <td>1</td>\n",
       "      <td>1</td>\n",
       "      <td>0</td>\n",
       "      <td>...</td>\n",
       "      <td>0</td>\n",
       "      <td>0</td>\n",
       "      <td>0</td>\n",
       "      <td>0</td>\n",
       "      <td>0</td>\n",
       "      <td>0</td>\n",
       "      <td>0</td>\n",
       "      <td>0</td>\n",
       "      <td>0</td>\n",
       "      <td>0</td>\n",
       "    </tr>\n",
       "    <tr>\n",
       "      <th>3</th>\n",
       "      <td>7</td>\n",
       "      <td>4.9</td>\n",
       "      <td>182445</td>\n",
       "      <td>24.95</td>\n",
       "      <td>52</td>\n",
       "      <td>107040</td>\n",
       "      <td>80226</td>\n",
       "      <td>0</td>\n",
       "      <td>1</td>\n",
       "      <td>0</td>\n",
       "      <td>...</td>\n",
       "      <td>0</td>\n",
       "      <td>0</td>\n",
       "      <td>0</td>\n",
       "      <td>0</td>\n",
       "      <td>0</td>\n",
       "      <td>0</td>\n",
       "      <td>0</td>\n",
       "      <td>0</td>\n",
       "      <td>0</td>\n",
       "      <td>0</td>\n",
       "    </tr>\n",
       "    <tr>\n",
       "      <th>4</th>\n",
       "      <td>7</td>\n",
       "      <td>4.9</td>\n",
       "      <td>182445</td>\n",
       "      <td>24.95</td>\n",
       "      <td>50</td>\n",
       "      <td>116000</td>\n",
       "      <td>80229</td>\n",
       "      <td>0</td>\n",
       "      <td>1</td>\n",
       "      <td>0</td>\n",
       "      <td>...</td>\n",
       "      <td>0</td>\n",
       "      <td>0</td>\n",
       "      <td>0</td>\n",
       "      <td>0</td>\n",
       "      <td>0</td>\n",
       "      <td>0</td>\n",
       "      <td>0</td>\n",
       "      <td>0</td>\n",
       "      <td>0</td>\n",
       "      <td>0</td>\n",
       "    </tr>\n",
       "    <tr>\n",
       "      <th>...</th>\n",
       "      <td>...</td>\n",
       "      <td>...</td>\n",
       "      <td>...</td>\n",
       "      <td>...</td>\n",
       "      <td>...</td>\n",
       "      <td>...</td>\n",
       "      <td>...</td>\n",
       "      <td>...</td>\n",
       "      <td>...</td>\n",
       "      <td>...</td>\n",
       "      <td>...</td>\n",
       "      <td>...</td>\n",
       "      <td>...</td>\n",
       "      <td>...</td>\n",
       "      <td>...</td>\n",
       "      <td>...</td>\n",
       "      <td>...</td>\n",
       "      <td>...</td>\n",
       "      <td>...</td>\n",
       "      <td>...</td>\n",
       "      <td>...</td>\n",
       "    </tr>\n",
       "    <tr>\n",
       "      <th>192795</th>\n",
       "      <td>22</td>\n",
       "      <td>4.6</td>\n",
       "      <td>4254</td>\n",
       "      <td>28.00</td>\n",
       "      <td>47</td>\n",
       "      <td>106000</td>\n",
       "      <td>80204</td>\n",
       "      <td>0</td>\n",
       "      <td>0</td>\n",
       "      <td>1</td>\n",
       "      <td>...</td>\n",
       "      <td>0</td>\n",
       "      <td>0</td>\n",
       "      <td>0</td>\n",
       "      <td>0</td>\n",
       "      <td>0</td>\n",
       "      <td>0</td>\n",
       "      <td>0</td>\n",
       "      <td>0</td>\n",
       "      <td>0</td>\n",
       "      <td>1</td>\n",
       "    </tr>\n",
       "    <tr>\n",
       "      <th>192796</th>\n",
       "      <td>22</td>\n",
       "      <td>4.6</td>\n",
       "      <td>4254</td>\n",
       "      <td>28.00</td>\n",
       "      <td>42</td>\n",
       "      <td>100200</td>\n",
       "      <td>80215</td>\n",
       "      <td>1</td>\n",
       "      <td>0</td>\n",
       "      <td>1</td>\n",
       "      <td>...</td>\n",
       "      <td>0</td>\n",
       "      <td>0</td>\n",
       "      <td>0</td>\n",
       "      <td>0</td>\n",
       "      <td>0</td>\n",
       "      <td>0</td>\n",
       "      <td>0</td>\n",
       "      <td>0</td>\n",
       "      <td>0</td>\n",
       "      <td>1</td>\n",
       "    </tr>\n",
       "    <tr>\n",
       "      <th>192797</th>\n",
       "      <td>22</td>\n",
       "      <td>4.6</td>\n",
       "      <td>4254</td>\n",
       "      <td>28.00</td>\n",
       "      <td>59</td>\n",
       "      <td>105600</td>\n",
       "      <td>80214</td>\n",
       "      <td>0</td>\n",
       "      <td>0</td>\n",
       "      <td>1</td>\n",
       "      <td>...</td>\n",
       "      <td>0</td>\n",
       "      <td>0</td>\n",
       "      <td>0</td>\n",
       "      <td>0</td>\n",
       "      <td>0</td>\n",
       "      <td>0</td>\n",
       "      <td>0</td>\n",
       "      <td>0</td>\n",
       "      <td>0</td>\n",
       "      <td>1</td>\n",
       "    </tr>\n",
       "    <tr>\n",
       "      <th>192798</th>\n",
       "      <td>22</td>\n",
       "      <td>4.6</td>\n",
       "      <td>4254</td>\n",
       "      <td>28.00</td>\n",
       "      <td>33</td>\n",
       "      <td>94000</td>\n",
       "      <td>80223</td>\n",
       "      <td>1</td>\n",
       "      <td>0</td>\n",
       "      <td>1</td>\n",
       "      <td>...</td>\n",
       "      <td>0</td>\n",
       "      <td>0</td>\n",
       "      <td>0</td>\n",
       "      <td>0</td>\n",
       "      <td>0</td>\n",
       "      <td>0</td>\n",
       "      <td>0</td>\n",
       "      <td>0</td>\n",
       "      <td>0</td>\n",
       "      <td>1</td>\n",
       "    </tr>\n",
       "    <tr>\n",
       "      <th>192799</th>\n",
       "      <td>22</td>\n",
       "      <td>4.6</td>\n",
       "      <td>4254</td>\n",
       "      <td>28.00</td>\n",
       "      <td>56</td>\n",
       "      <td>106200</td>\n",
       "      <td>80237</td>\n",
       "      <td>1</td>\n",
       "      <td>0</td>\n",
       "      <td>1</td>\n",
       "      <td>...</td>\n",
       "      <td>0</td>\n",
       "      <td>0</td>\n",
       "      <td>0</td>\n",
       "      <td>0</td>\n",
       "      <td>0</td>\n",
       "      <td>0</td>\n",
       "      <td>0</td>\n",
       "      <td>0</td>\n",
       "      <td>0</td>\n",
       "      <td>1</td>\n",
       "    </tr>\n",
       "  </tbody>\n",
       "</table>\n",
       "<p>192800 rows × 6747 columns</p>\n",
       "</div>"
      ],
      "text/plain": [
       "        Categories Encoded  Rating  Total No. of Ratings  Price  Age  Income  \\\n",
       "0                        7     4.9                182445  24.95   67  102000   \n",
       "1                        7     4.9                182445  24.95   67  102000   \n",
       "2                        7     4.9                182445  24.95   65  111200   \n",
       "3                        7     4.9                182445  24.95   52  107040   \n",
       "4                        7     4.9                182445  24.95   50  116000   \n",
       "...                    ...     ...                   ...    ...  ...     ...   \n",
       "192795                  22     4.6                  4254  28.00   47  106000   \n",
       "192796                  22     4.6                  4254  28.00   42  100200   \n",
       "192797                  22     4.6                  4254  28.00   59  105600   \n",
       "192798                  22     4.6                  4254  28.00   33   94000   \n",
       "192799                  22     4.6                  4254  28.00   56  106200   \n",
       "\n",
       "        ZipCode  Gender_Female  Review_High  Review_Low  ...  \\\n",
       "0         80207              1            1           0  ...   \n",
       "1         80236              1            1           0  ...   \n",
       "2         80217              1            1           0  ...   \n",
       "3         80226              0            1           0  ...   \n",
       "4         80229              0            1           0  ...   \n",
       "...         ...            ...          ...         ...  ...   \n",
       "192795    80204              0            0           1  ...   \n",
       "192796    80215              1            0           1  ...   \n",
       "192797    80214              0            0           1  ...   \n",
       "192798    80223              1            0           1  ...   \n",
       "192799    80237              1            0           1  ...   \n",
       "\n",
       "        Categories_Money & Finance  Categories_Mystery, Thriller & Suspense  \\\n",
       "0                                0                                        0   \n",
       "1                                0                                        0   \n",
       "2                                0                                        0   \n",
       "3                                0                                        0   \n",
       "4                                0                                        0   \n",
       "...                            ...                                      ...   \n",
       "192795                           0                                        0   \n",
       "192796                           0                                        0   \n",
       "192797                           0                                        0   \n",
       "192798                           0                                        0   \n",
       "192799                           0                                        0   \n",
       "\n",
       "        Categories_Politics & Social Sciences  \\\n",
       "0                                           0   \n",
       "1                                           0   \n",
       "2                                           0   \n",
       "3                                           0   \n",
       "4                                           0   \n",
       "...                                       ...   \n",
       "192795                                      0   \n",
       "192796                                      0   \n",
       "192797                                      0   \n",
       "192798                                      0   \n",
       "192799                                      0   \n",
       "\n",
       "        Categories_Relationships, Parenting & Personal Development  \\\n",
       "0                                                       0            \n",
       "1                                                       0            \n",
       "2                                                       0            \n",
       "3                                                       0            \n",
       "4                                                       0            \n",
       "...                                                   ...            \n",
       "192795                                                  0            \n",
       "192796                                                  0            \n",
       "192797                                                  0            \n",
       "192798                                                  0            \n",
       "192799                                                  0            \n",
       "\n",
       "        Categories_Religion & Spirituality  Categories_Romance  \\\n",
       "0                                        0                   0   \n",
       "1                                        0                   0   \n",
       "2                                        0                   0   \n",
       "3                                        0                   0   \n",
       "4                                        0                   0   \n",
       "...                                    ...                 ...   \n",
       "192795                                   0                   0   \n",
       "192796                                   0                   0   \n",
       "192797                                   0                   0   \n",
       "192798                                   0                   0   \n",
       "192799                                   0                   0   \n",
       "\n",
       "        Categories_Science & Engineering  \\\n",
       "0                                      0   \n",
       "1                                      0   \n",
       "2                                      0   \n",
       "3                                      0   \n",
       "4                                      0   \n",
       "...                                  ...   \n",
       "192795                                 0   \n",
       "192796                                 0   \n",
       "192797                                 0   \n",
       "192798                                 0   \n",
       "192799                                 0   \n",
       "\n",
       "        Categories_Science Fiction & Fantasy  Categories_Teen  \\\n",
       "0                                          0                0   \n",
       "1                                          0                0   \n",
       "2                                          0                0   \n",
       "3                                          0                0   \n",
       "4                                          0                0   \n",
       "...                                      ...              ...   \n",
       "192795                                     0                0   \n",
       "192796                                     0                0   \n",
       "192797                                     0                0   \n",
       "192798                                     0                0   \n",
       "192799                                     0                0   \n",
       "\n",
       "        Categories_Travel & Tourism  \n",
       "0                                 0  \n",
       "1                                 0  \n",
       "2                                 0  \n",
       "3                                 0  \n",
       "4                                 0  \n",
       "...                             ...  \n",
       "192795                            1  \n",
       "192796                            1  \n",
       "192797                            1  \n",
       "192798                            1  \n",
       "192799                            1  \n",
       "\n",
       "[192800 rows x 6747 columns]"
      ]
     },
     "execution_count": 27,
     "metadata": {},
     "output_type": "execute_result"
    }
   ],
   "source": [
    "# Use dummies encoded to create binary data from gender\n",
    "#data = X.copy()\n",
    "audible = pd.get_dummies(audible)\n",
    "audible"
   ]
  },
  {
   "cell_type": "code",
   "execution_count": 5,
   "metadata": {},
   "outputs": [
    {
     "data": {
      "text/html": [
       "<div>\n",
       "<style scoped>\n",
       "    .dataframe tbody tr th:only-of-type {\n",
       "        vertical-align: middle;\n",
       "    }\n",
       "\n",
       "    .dataframe tbody tr th {\n",
       "        vertical-align: top;\n",
       "    }\n",
       "\n",
       "    .dataframe thead th {\n",
       "        text-align: right;\n",
       "    }\n",
       "</style>\n",
       "<table border=\"1\" class=\"dataframe\">\n",
       "  <thead>\n",
       "    <tr style=\"text-align: right;\">\n",
       "      <th></th>\n",
       "      <th>Book Title</th>\n",
       "      <th>Book Subtitle</th>\n",
       "      <th>Book Author</th>\n",
       "      <th>Book Narrator</th>\n",
       "      <th>Audio Runtime</th>\n",
       "      <th>Audiobook_Type</th>\n",
       "      <th>Categories</th>\n",
       "      <th>Categories Encoded</th>\n",
       "      <th>Rating</th>\n",
       "      <th>Total No. of Ratings</th>\n",
       "      <th>...</th>\n",
       "      <th>Profession_Public Relations Specialist</th>\n",
       "      <th>Profession_Real Estate Broker</th>\n",
       "      <th>Profession_Real Estate Sales Agent</th>\n",
       "      <th>Profession_Registered Nurse</th>\n",
       "      <th>Profession_Security Guard</th>\n",
       "      <th>Profession_Software Developer</th>\n",
       "      <th>Profession_Speech-Language Pathologist</th>\n",
       "      <th>Profession_Warhouse Packer</th>\n",
       "      <th>Profession_Welder</th>\n",
       "      <th>Profession_Wholesale</th>\n",
       "    </tr>\n",
       "  </thead>\n",
       "  <tbody>\n",
       "    <tr>\n",
       "      <th>0</th>\n",
       "      <td>Born a Crime</td>\n",
       "      <td>Stories from a South African Childhood</td>\n",
       "      <td>Trevor Noah</td>\n",
       "      <td>Trevor Noah</td>\n",
       "      <td>8 hrs and 44 mins</td>\n",
       "      <td>Unabridged Audiobook</td>\n",
       "      <td>Arts &amp; Entertainment</td>\n",
       "      <td>7</td>\n",
       "      <td>4.9</td>\n",
       "      <td>182445</td>\n",
       "      <td>...</td>\n",
       "      <td>0</td>\n",
       "      <td>0</td>\n",
       "      <td>0</td>\n",
       "      <td>0</td>\n",
       "      <td>0</td>\n",
       "      <td>0</td>\n",
       "      <td>0</td>\n",
       "      <td>0</td>\n",
       "      <td>0</td>\n",
       "      <td>0</td>\n",
       "    </tr>\n",
       "    <tr>\n",
       "      <th>1</th>\n",
       "      <td>Born a Crime</td>\n",
       "      <td>Stories from a South African Childhood</td>\n",
       "      <td>Trevor Noah</td>\n",
       "      <td>Trevor Noah</td>\n",
       "      <td>8 hrs and 44 mins</td>\n",
       "      <td>Unabridged Audiobook</td>\n",
       "      <td>Arts &amp; Entertainment</td>\n",
       "      <td>7</td>\n",
       "      <td>4.9</td>\n",
       "      <td>182445</td>\n",
       "      <td>...</td>\n",
       "      <td>0</td>\n",
       "      <td>0</td>\n",
       "      <td>0</td>\n",
       "      <td>0</td>\n",
       "      <td>0</td>\n",
       "      <td>0</td>\n",
       "      <td>0</td>\n",
       "      <td>0</td>\n",
       "      <td>0</td>\n",
       "      <td>0</td>\n",
       "    </tr>\n",
       "    <tr>\n",
       "      <th>2</th>\n",
       "      <td>Born a Crime</td>\n",
       "      <td>Stories from a South African Childhood</td>\n",
       "      <td>Trevor Noah</td>\n",
       "      <td>Trevor Noah</td>\n",
       "      <td>8 hrs and 44 mins</td>\n",
       "      <td>Unabridged Audiobook</td>\n",
       "      <td>Arts &amp; Entertainment</td>\n",
       "      <td>7</td>\n",
       "      <td>4.9</td>\n",
       "      <td>182445</td>\n",
       "      <td>...</td>\n",
       "      <td>0</td>\n",
       "      <td>0</td>\n",
       "      <td>0</td>\n",
       "      <td>0</td>\n",
       "      <td>0</td>\n",
       "      <td>0</td>\n",
       "      <td>0</td>\n",
       "      <td>0</td>\n",
       "      <td>0</td>\n",
       "      <td>0</td>\n",
       "    </tr>\n",
       "    <tr>\n",
       "      <th>3</th>\n",
       "      <td>Born a Crime</td>\n",
       "      <td>Stories from a South African Childhood</td>\n",
       "      <td>Trevor Noah</td>\n",
       "      <td>Trevor Noah</td>\n",
       "      <td>8 hrs and 44 mins</td>\n",
       "      <td>Unabridged Audiobook</td>\n",
       "      <td>Arts &amp; Entertainment</td>\n",
       "      <td>7</td>\n",
       "      <td>4.9</td>\n",
       "      <td>182445</td>\n",
       "      <td>...</td>\n",
       "      <td>0</td>\n",
       "      <td>0</td>\n",
       "      <td>0</td>\n",
       "      <td>0</td>\n",
       "      <td>0</td>\n",
       "      <td>0</td>\n",
       "      <td>0</td>\n",
       "      <td>0</td>\n",
       "      <td>0</td>\n",
       "      <td>0</td>\n",
       "    </tr>\n",
       "    <tr>\n",
       "      <th>4</th>\n",
       "      <td>Born a Crime</td>\n",
       "      <td>Stories from a South African Childhood</td>\n",
       "      <td>Trevor Noah</td>\n",
       "      <td>Trevor Noah</td>\n",
       "      <td>8 hrs and 44 mins</td>\n",
       "      <td>Unabridged Audiobook</td>\n",
       "      <td>Arts &amp; Entertainment</td>\n",
       "      <td>7</td>\n",
       "      <td>4.9</td>\n",
       "      <td>182445</td>\n",
       "      <td>...</td>\n",
       "      <td>0</td>\n",
       "      <td>0</td>\n",
       "      <td>0</td>\n",
       "      <td>0</td>\n",
       "      <td>0</td>\n",
       "      <td>0</td>\n",
       "      <td>0</td>\n",
       "      <td>0</td>\n",
       "      <td>0</td>\n",
       "      <td>0</td>\n",
       "    </tr>\n",
       "  </tbody>\n",
       "</table>\n",
       "<p>5 rows × 67 columns</p>\n",
       "</div>"
      ],
      "text/plain": [
       "     Book Title                           Book Subtitle  Book Author  \\\n",
       "0  Born a Crime  Stories from a South African Childhood  Trevor Noah   \n",
       "1  Born a Crime  Stories from a South African Childhood  Trevor Noah   \n",
       "2  Born a Crime  Stories from a South African Childhood  Trevor Noah   \n",
       "3  Born a Crime  Stories from a South African Childhood  Trevor Noah   \n",
       "4  Born a Crime  Stories from a South African Childhood  Trevor Noah   \n",
       "\n",
       "  Book Narrator      Audio Runtime        Audiobook_Type  \\\n",
       "0   Trevor Noah  8 hrs and 44 mins  Unabridged Audiobook   \n",
       "1   Trevor Noah  8 hrs and 44 mins  Unabridged Audiobook   \n",
       "2   Trevor Noah  8 hrs and 44 mins  Unabridged Audiobook   \n",
       "3   Trevor Noah  8 hrs and 44 mins  Unabridged Audiobook   \n",
       "4   Trevor Noah  8 hrs and 44 mins  Unabridged Audiobook   \n",
       "\n",
       "             Categories  Categories Encoded  Rating  Total No. of Ratings  \\\n",
       "0  Arts & Entertainment                   7     4.9                182445   \n",
       "1  Arts & Entertainment                   7     4.9                182445   \n",
       "2  Arts & Entertainment                   7     4.9                182445   \n",
       "3  Arts & Entertainment                   7     4.9                182445   \n",
       "4  Arts & Entertainment                   7     4.9                182445   \n",
       "\n",
       "   ...  Profession_Public Relations Specialist  Profession_Real Estate Broker  \\\n",
       "0  ...                                       0                              0   \n",
       "1  ...                                       0                              0   \n",
       "2  ...                                       0                              0   \n",
       "3  ...                                       0                              0   \n",
       "4  ...                                       0                              0   \n",
       "\n",
       "   Profession_Real Estate Sales Agent  Profession_Registered Nurse  \\\n",
       "0                                   0                            0   \n",
       "1                                   0                            0   \n",
       "2                                   0                            0   \n",
       "3                                   0                            0   \n",
       "4                                   0                            0   \n",
       "\n",
       "   Profession_Security Guard  Profession_Software Developer  \\\n",
       "0                          0                              0   \n",
       "1                          0                              0   \n",
       "2                          0                              0   \n",
       "3                          0                              0   \n",
       "4                          0                              0   \n",
       "\n",
       "   Profession_Speech-Language Pathologist  Profession_Warhouse Packer  \\\n",
       "0                                       0                           0   \n",
       "1                                       0                           0   \n",
       "2                                       0                           0   \n",
       "3                                       0                           0   \n",
       "4                                       0                           0   \n",
       "\n",
       "   Profession_Welder  Profession_Wholesale  \n",
       "0                  0                     0  \n",
       "1                  0                     0  \n",
       "2                  0                     0  \n",
       "3                  0                     0  \n",
       "4                  0                     0  \n",
       "\n",
       "[5 rows x 67 columns]"
      ]
     },
     "execution_count": 5,
     "metadata": {},
     "output_type": "execute_result"
    }
   ],
   "source": [
    "# Drop extra dummy columns\n",
    "audible= audible.drop(columns=['Gender_Male'])\n",
    "feature_names = audible.columns\n",
    "audible.head()"
   ]
  },
  {
   "cell_type": "code",
   "execution_count": 28,
   "metadata": {},
   "outputs": [
    {
     "name": "stdout",
     "output_type": "stream",
     "text": [
      "(192800, 7)\n"
     ]
    }
   ],
   "source": [
    "# Set features. This will also be used as your x values.\n",
    "selected_features = audible[['Rating', 'Total No. of Ratings', 'Price',\n",
    "       'Age', 'Income', 'ZipCode', 'Gender_Female']]\n",
    "X_values= selected_features\n",
    "X_values.head()\n",
    "print(X_values.shape)"
   ]
  },
  {
   "cell_type": "code",
   "execution_count": 136,
   "metadata": {},
   "outputs": [
    {
     "data": {
      "text/html": [
       "<div>\n",
       "<style scoped>\n",
       "    .dataframe tbody tr th:only-of-type {\n",
       "        vertical-align: middle;\n",
       "    }\n",
       "\n",
       "    .dataframe tbody tr th {\n",
       "        vertical-align: top;\n",
       "    }\n",
       "\n",
       "    .dataframe thead th {\n",
       "        text-align: right;\n",
       "    }\n",
       "</style>\n",
       "<table border=\"1\" class=\"dataframe\">\n",
       "  <thead>\n",
       "    <tr style=\"text-align: right;\">\n",
       "      <th></th>\n",
       "      <th>Rating</th>\n",
       "      <th>Total No. of Ratings</th>\n",
       "      <th>Price</th>\n",
       "      <th>Age</th>\n",
       "      <th>Income</th>\n",
       "      <th>ZipCode</th>\n",
       "      <th>Gender_Female</th>\n",
       "    </tr>\n",
       "  </thead>\n",
       "  <tbody>\n",
       "    <tr>\n",
       "      <th>0</th>\n",
       "      <td>4.9</td>\n",
       "      <td>182445</td>\n",
       "      <td>24.95</td>\n",
       "      <td>67</td>\n",
       "      <td>102000</td>\n",
       "      <td>80207</td>\n",
       "      <td>1</td>\n",
       "    </tr>\n",
       "    <tr>\n",
       "      <th>1</th>\n",
       "      <td>4.9</td>\n",
       "      <td>182445</td>\n",
       "      <td>24.95</td>\n",
       "      <td>67</td>\n",
       "      <td>102000</td>\n",
       "      <td>80236</td>\n",
       "      <td>1</td>\n",
       "    </tr>\n",
       "    <tr>\n",
       "      <th>2</th>\n",
       "      <td>4.9</td>\n",
       "      <td>182445</td>\n",
       "      <td>24.95</td>\n",
       "      <td>65</td>\n",
       "      <td>111200</td>\n",
       "      <td>80217</td>\n",
       "      <td>1</td>\n",
       "    </tr>\n",
       "    <tr>\n",
       "      <th>3</th>\n",
       "      <td>4.9</td>\n",
       "      <td>182445</td>\n",
       "      <td>24.95</td>\n",
       "      <td>52</td>\n",
       "      <td>107040</td>\n",
       "      <td>80226</td>\n",
       "      <td>0</td>\n",
       "    </tr>\n",
       "    <tr>\n",
       "      <th>4</th>\n",
       "      <td>4.9</td>\n",
       "      <td>182445</td>\n",
       "      <td>24.95</td>\n",
       "      <td>50</td>\n",
       "      <td>116000</td>\n",
       "      <td>80229</td>\n",
       "      <td>0</td>\n",
       "    </tr>\n",
       "  </tbody>\n",
       "</table>\n",
       "</div>"
      ],
      "text/plain": [
       "   Rating  Total No. of Ratings  Price  Age  Income  ZipCode  Gender_Female\n",
       "0     4.9                182445  24.95   67  102000    80207              1\n",
       "1     4.9                182445  24.95   67  102000    80236              1\n",
       "2     4.9                182445  24.95   65  111200    80217              1\n",
       "3     4.9                182445  24.95   52  107040    80226              0\n",
       "4     4.9                182445  24.95   50  116000    80229              0"
      ]
     },
     "execution_count": 136,
     "metadata": {},
     "output_type": "execute_result"
    }
   ],
   "source": [
    "selected_features.head()"
   ]
  },
  {
   "cell_type": "markdown",
   "metadata": {},
   "source": [
    "# Scaling and Normalization with top five book categories"
   ]
  },
  {
   "cell_type": "markdown",
   "metadata": {},
   "source": [
    "## Book Category: Arts & Entertainment"
   ]
  },
  {
   "cell_type": "code",
   "execution_count": 105,
   "metadata": {},
   "outputs": [
    {
     "name": "stdout",
     "output_type": "stream",
     "text": [
      "(192800, 5) (192800, 1)\n"
     ]
    }
   ],
   "source": [
    "X = audible[[\"Gender_Female\", \"Age\", \"Rating\", \"Total No. of Ratings\", \"ZipCode\"]]\n",
    "y = audible[\"Categories_Literature & Fiction\"].values.reshape(-1, 1)\n",
    "print(X.shape, y.shape)"
   ]
  },
  {
   "cell_type": "code",
   "execution_count": 106,
   "metadata": {},
   "outputs": [
    {
     "data": {
      "text/html": [
       "<div>\n",
       "<style scoped>\n",
       "    .dataframe tbody tr th:only-of-type {\n",
       "        vertical-align: middle;\n",
       "    }\n",
       "\n",
       "    .dataframe tbody tr th {\n",
       "        vertical-align: top;\n",
       "    }\n",
       "\n",
       "    .dataframe thead th {\n",
       "        text-align: right;\n",
       "    }\n",
       "</style>\n",
       "<table border=\"1\" class=\"dataframe\">\n",
       "  <thead>\n",
       "    <tr style=\"text-align: right;\">\n",
       "      <th></th>\n",
       "      <th>Gender_Female</th>\n",
       "      <th>Age</th>\n",
       "      <th>Rating</th>\n",
       "      <th>Total No. of Ratings</th>\n",
       "      <th>ZipCode</th>\n",
       "    </tr>\n",
       "  </thead>\n",
       "  <tbody>\n",
       "    <tr>\n",
       "      <th>177449</th>\n",
       "      <td>1</td>\n",
       "      <td>62</td>\n",
       "      <td>4.9</td>\n",
       "      <td>446</td>\n",
       "      <td>80224</td>\n",
       "    </tr>\n",
       "    <tr>\n",
       "      <th>52333</th>\n",
       "      <td>1</td>\n",
       "      <td>19</td>\n",
       "      <td>4.2</td>\n",
       "      <td>5</td>\n",
       "      <td>80219</td>\n",
       "    </tr>\n",
       "    <tr>\n",
       "      <th>15198</th>\n",
       "      <td>1</td>\n",
       "      <td>66</td>\n",
       "      <td>4.4</td>\n",
       "      <td>12274</td>\n",
       "      <td>80204</td>\n",
       "    </tr>\n",
       "    <tr>\n",
       "      <th>102711</th>\n",
       "      <td>1</td>\n",
       "      <td>25</td>\n",
       "      <td>4.4</td>\n",
       "      <td>725</td>\n",
       "      <td>80224</td>\n",
       "    </tr>\n",
       "    <tr>\n",
       "      <th>26933</th>\n",
       "      <td>1</td>\n",
       "      <td>27</td>\n",
       "      <td>4.6</td>\n",
       "      <td>4811</td>\n",
       "      <td>80213</td>\n",
       "    </tr>\n",
       "  </tbody>\n",
       "</table>\n",
       "</div>"
      ],
      "text/plain": [
       "        Gender_Female  Age  Rating  Total No. of Ratings  ZipCode\n",
       "177449              1   62     4.9                   446    80224\n",
       "52333               1   19     4.2                     5    80219\n",
       "15198               1   66     4.4                 12274    80204\n",
       "102711              1   25     4.4                   725    80224\n",
       "26933               1   27     4.6                  4811    80213"
      ]
     },
     "execution_count": 106,
     "metadata": {},
     "output_type": "execute_result"
    }
   ],
   "source": [
    "# Split the data into training and testing\n",
    "from sklearn.model_selection import train_test_split\n",
    "\n",
    "X_train, X_test, y_train, y_test = train_test_split(X, y, test_size= .4)\n",
    "X_train.head()"
   ]
  },
  {
   "cell_type": "code",
   "execution_count": 107,
   "metadata": {},
   "outputs": [],
   "source": [
    "# Create a StandardScater model and fit it to the training data\n",
    "from sklearn.preprocessing import StandardScaler\n",
    "X_scaler = StandardScaler().fit(X_train)\n",
    "y_scaler = StandardScaler().fit(y_train)"
   ]
  },
  {
   "cell_type": "code",
   "execution_count": 108,
   "metadata": {},
   "outputs": [],
   "source": [
    "# Transform the training and testing data using the X_scaler and y_scaler models\n",
    "X_train_scaled = X_scaler.transform(X_train)\n",
    "X_test_scaled = X_scaler.transform(X_test)\n",
    "y_train_scaled = y_scaler.transform(y_train)\n",
    "y_test_scaled = y_scaler.transform(y_test)"
   ]
  },
  {
   "cell_type": "code",
   "execution_count": 109,
   "metadata": {},
   "outputs": [
    {
     "data": {
      "text/plain": [
       "LinearRegression()"
      ]
     },
     "execution_count": 109,
     "metadata": {},
     "output_type": "execute_result"
    }
   ],
   "source": [
    "# Create a LinearRegression model and fit it to the scaled training data\n",
    "from sklearn.linear_model import LinearRegression\n",
    "model = LinearRegression()\n",
    "model.fit(X_train_scaled, y_train_scaled)"
   ]
  },
  {
   "cell_type": "code",
   "execution_count": 110,
   "metadata": {},
   "outputs": [
    {
     "data": {
      "image/png": "[encoded data removed]",
      "text/plain": [
       "<Figure size 432x288 with 1 Axes>"
      ]
     },
     "metadata": {
      "needs_background": "light"
     },
     "output_type": "display_data"
    }
   ],
   "source": [
    " #Make predictions using a fitted model\n",
    "# Plot the difference between the model predicted values and actual y values, versus the model predicted values\n",
    "# Hint: You can predict values of X training and testing data using the model.predict() method on a fitted model\n",
    "\n",
    "predictions = model.predict(X_test_scaled)\n",
    "model.fit(X_train_scaled, y_train_scaled)\n",
    "plt.scatter(model.predict(X_train_scaled), model.predict(X_train_scaled) - y_train_scaled, c=\"blue\", label=\"Training Data\")\n",
    "plt.scatter(model.predict(X_test_scaled), model.predict(X_test_scaled) - y_test_scaled, c=\"orange\", label=\"Testing Data\")\n",
    "plt.legend()\n",
    "plt.hlines(y=0, xmin=y_test_scaled.min(), xmax=y_test_scaled.max())\n",
    "plt.title(\"Residual Plot\")\n",
    "plt.show()"
   ]
  },
  {
   "cell_type": "code",
   "execution_count": 111,
   "metadata": {},
   "outputs": [
    {
     "name": "stdout",
     "output_type": "stream",
     "text": [
      "MSE: 0.9736421937217896, R2: 0.02167034337835605\n"
     ]
    }
   ],
   "source": [
    "# Used X_test_scaled, y_test_scaled, and model.predict(X_test_scaled) to calculate MSE and R2\n",
    "\n",
    "from sklearn.metrics import mean_squared_error\n",
    "\n",
    "MSE = mean_squared_error(y_test_scaled, predictions)\n",
    "r2 = model.score(X_test_scaled, y_test_scaled)\n",
    "\n",
    "print(f\"MSE: {MSE}, R2: {r2}\")"
   ]
  },
  {
   "cell_type": "code",
   "execution_count": 112,
   "metadata": {},
   "outputs": [
    {
     "name": "stdout",
     "output_type": "stream",
     "text": [
      "k: 1, Train/Test Score: 0.999/0.745\n",
      "k: 3, Train/Test Score: 0.870/0.776\n",
      "k: 5, Train/Test Score: 0.843/0.788\n",
      "k: 7, Train/Test Score: 0.831/0.794\n",
      "k: 9, Train/Test Score: 0.825/0.797\n",
      "k: 11, Train/Test Score: 0.820/0.798\n",
      "k: 13, Train/Test Score: 0.817/0.799\n",
      "k: 15, Train/Test Score: 0.815/0.801\n",
      "k: 17, Train/Test Score: 0.813/0.801\n",
      "k: 19, Train/Test Score: 0.812/0.802\n"
     ]
    },
    {
     "data": {
      "image/png": "[encoded data removed]",
      "text/plain": [
       "<Figure size 432x288 with 1 Axes>"
      ]
     },
     "metadata": {
      "needs_background": "light"
     },
     "output_type": "display_data"
    }
   ],
   "source": [
    "# Loop through different k values to see which has the highest accuracy\n",
    "# Note: We only use odd numbers because we don't want any ties\n",
    "train_scores = []\n",
    "test_scores = []\n",
    "for k in range(1, 20, 2):\n",
    "    knn = KNeighborsClassifier(n_neighbors=k)\n",
    "    knn.fit(X_train_scaled, y_train)\n",
    "    train_score = knn.score(X_train_scaled, y_train)\n",
    "    test_score = knn.score(X_test_scaled, y_test)\n",
    "    train_scores.append(train_score)\n",
    "    test_scores.append(test_score)\n",
    "    print(f\"k: {k}, Train/Test Score: {train_score:.3f}/{test_score:.3f}\")\n",
    "    \n",
    "    \n",
    "plt.plot(range(1, 20, 2), train_scores, marker='o')\n",
    "plt.plot(range(1, 20, 2), test_scores, marker=\"x\")\n",
    "plt.xlabel(\"k neighbors\")\n",
    "plt.ylabel(\"Testing accuracy Score\")\n",
    "plt.show()"
   ]
  },
  {
   "cell_type": "code",
   "execution_count": 113,
   "metadata": {},
   "outputs": [
    {
     "name": "stdout",
     "output_type": "stream",
     "text": [
      "k=9 Test Acc: 0.797\n"
     ]
    }
   ],
   "source": [
    "# Note that k: 15 seems to be the best choice for this dataset\n",
    "knn = KNeighborsClassifier(n_neighbors=9)\n",
    "knn.fit(X_train_scaled, y_train)\n",
    "print('k=9 Test Acc: %.3f' % knn.score(X_test_scaled, y_test))"
   ]
  },
  {
   "cell_type": "markdown",
   "metadata": {},
   "source": [
    "### Book Category: Business & Careers"
   ]
  },
  {
   "cell_type": "code",
   "execution_count": 66,
   "metadata": {},
   "outputs": [
    {
     "name": "stdout",
     "output_type": "stream",
     "text": [
      "(192800, 5) (192800, 1)\n"
     ]
    }
   ],
   "source": [
    "X = audible[[\"Gender_Female\", \"Age\", \"Rating\", \"Total No. of Ratings\", \"ZipCode\"]]\n",
    "y = audible[\"Categories_Business & Careers\"].values.reshape(-1, 1)\n",
    "print(X.shape, y.shape)"
   ]
  },
  {
   "cell_type": "code",
   "execution_count": 67,
   "metadata": {},
   "outputs": [
    {
     "data": {
      "text/html": [
       "<div>\n",
       "<style scoped>\n",
       "    .dataframe tbody tr th:only-of-type {\n",
       "        vertical-align: middle;\n",
       "    }\n",
       "\n",
       "    .dataframe tbody tr th {\n",
       "        vertical-align: top;\n",
       "    }\n",
       "\n",
       "    .dataframe thead th {\n",
       "        text-align: right;\n",
       "    }\n",
       "</style>\n",
       "<table border=\"1\" class=\"dataframe\">\n",
       "  <thead>\n",
       "    <tr style=\"text-align: right;\">\n",
       "      <th></th>\n",
       "      <th>Gender_Female</th>\n",
       "      <th>Age</th>\n",
       "      <th>Rating</th>\n",
       "      <th>Total No. of Ratings</th>\n",
       "      <th>ZipCode</th>\n",
       "    </tr>\n",
       "  </thead>\n",
       "  <tbody>\n",
       "    <tr>\n",
       "      <th>150412</th>\n",
       "      <td>0</td>\n",
       "      <td>21</td>\n",
       "      <td>4.6</td>\n",
       "      <td>280</td>\n",
       "      <td>80229</td>\n",
       "    </tr>\n",
       "    <tr>\n",
       "      <th>110971</th>\n",
       "      <td>1</td>\n",
       "      <td>72</td>\n",
       "      <td>4.2</td>\n",
       "      <td>1364</td>\n",
       "      <td>80219</td>\n",
       "    </tr>\n",
       "    <tr>\n",
       "      <th>55490</th>\n",
       "      <td>0</td>\n",
       "      <td>41</td>\n",
       "      <td>3.3</td>\n",
       "      <td>58</td>\n",
       "      <td>80232</td>\n",
       "    </tr>\n",
       "    <tr>\n",
       "      <th>1649</th>\n",
       "      <td>0</td>\n",
       "      <td>36</td>\n",
       "      <td>4.4</td>\n",
       "      <td>1718</td>\n",
       "      <td>80210</td>\n",
       "    </tr>\n",
       "    <tr>\n",
       "      <th>3616</th>\n",
       "      <td>1</td>\n",
       "      <td>36</td>\n",
       "      <td>4.8</td>\n",
       "      <td>1155</td>\n",
       "      <td>80231</td>\n",
       "    </tr>\n",
       "  </tbody>\n",
       "</table>\n",
       "</div>"
      ],
      "text/plain": [
       "        Gender_Female  Age  Rating  Total No. of Ratings  ZipCode\n",
       "150412              0   21     4.6                   280    80229\n",
       "110971              1   72     4.2                  1364    80219\n",
       "55490               0   41     3.3                    58    80232\n",
       "1649                0   36     4.4                  1718    80210\n",
       "3616                1   36     4.8                  1155    80231"
      ]
     },
     "execution_count": 67,
     "metadata": {},
     "output_type": "execute_result"
    }
   ],
   "source": [
    "# Split the data into training and testing\n",
    "from sklearn.model_selection import train_test_split\n",
    "\n",
    "X_train, X_test, y_train, y_test = train_test_split(X, y, test_size= .4)\n",
    "X_train.head()"
   ]
  },
  {
   "cell_type": "code",
   "execution_count": 68,
   "metadata": {},
   "outputs": [],
   "source": [
    "# Create a StandardScater model and fit it to the training data\n",
    "from sklearn.preprocessing import StandardScaler\n",
    "X_scaler = StandardScaler().fit(X_train)\n",
    "y_scaler = StandardScaler().fit(y_train)"
   ]
  },
  {
   "cell_type": "code",
   "execution_count": 69,
   "metadata": {},
   "outputs": [],
   "source": [
    "# Transform the training and testing data using the X_scaler and y_scaler models\n",
    "X_train_scaled = X_scaler.transform(X_train)\n",
    "X_test_scaled = X_scaler.transform(X_test)\n",
    "y_train_scaled = y_scaler.transform(y_train)\n",
    "y_test_scaled = y_scaler.transform(y_test)"
   ]
  },
  {
   "cell_type": "code",
   "execution_count": 70,
   "metadata": {},
   "outputs": [
    {
     "data": {
      "text/plain": [
       "LinearRegression()"
      ]
     },
     "execution_count": 70,
     "metadata": {},
     "output_type": "execute_result"
    }
   ],
   "source": [
    "# Create a LinearRegression model and fit it to the scaled training data\n",
    "from sklearn.linear_model import LinearRegression\n",
    "model = LinearRegression()\n",
    "model.fit(X_train_scaled, y_train_scaled)"
   ]
  },
  {
   "cell_type": "code",
   "execution_count": 71,
   "metadata": {},
   "outputs": [
    {
     "data": {
      "image/png": "[encoded data removed]",
      "text/plain": [
       "<Figure size 432x288 with 1 Axes>"
      ]
     },
     "metadata": {
      "needs_background": "light"
     },
     "output_type": "display_data"
    }
   ],
   "source": [
    " #Make predictions using a fitted model\n",
    "# Plot the difference between the model predicted values and actual y values, versus the model predicted values\n",
    "# Hint: You can predict values of X training and testing data using the model.predict() method on a fitted model\n",
    "\n",
    "predictions = model.predict(X_test_scaled)\n",
    "model.fit(X_train_scaled, y_train_scaled)\n",
    "plt.scatter(model.predict(X_train_scaled), model.predict(X_train_scaled) - y_train_scaled, c=\"blue\", label=\"Training Data\")\n",
    "plt.scatter(model.predict(X_test_scaled), model.predict(X_test_scaled) - y_test_scaled, c=\"orange\", label=\"Testing Data\")\n",
    "plt.legend()\n",
    "plt.hlines(y=0, xmin=y_test_scaled.min(), xmax=y_test_scaled.max())\n",
    "plt.title(\"Residual Plot\")\n",
    "plt.show()"
   ]
  },
  {
   "cell_type": "code",
   "execution_count": 72,
   "metadata": {},
   "outputs": [
    {
     "name": "stdout",
     "output_type": "stream",
     "text": [
      "MSE: 1.0043535424796144, R2: 0.0020559381562487156\n"
     ]
    }
   ],
   "source": [
    "# Used X_test_scaled, y_test_scaled, and model.predict(X_test_scaled) to calculate MSE and R2\n",
    "\n",
    "from sklearn.metrics import mean_squared_error\n",
    "\n",
    "MSE = mean_squared_error(y_test_scaled, predictions)\n",
    "r2 = model.score(X_test_scaled, y_test_scaled)\n",
    "\n",
    "print(f\"MSE: {MSE}, R2: {r2}\")"
   ]
  },
  {
   "cell_type": "code",
   "execution_count": 73,
   "metadata": {},
   "outputs": [
    {
     "name": "stdout",
     "output_type": "stream",
     "text": [
      "k: 1, Train/Test Score: 0.999/0.832\n",
      "k: 3, Train/Test Score: 0.917/0.879\n",
      "k: 5, Train/Test Score: 0.907/0.892\n",
      "k: 7, Train/Test Score: 0.903/0.897\n",
      "k: 9, Train/Test Score: 0.902/0.899\n",
      "k: 11, Train/Test Score: 0.902/0.899\n",
      "k: 13, Train/Test Score: 0.902/0.900\n",
      "k: 15, Train/Test Score: 0.901/0.900\n",
      "k: 17, Train/Test Score: 0.901/0.900\n",
      "k: 19, Train/Test Score: 0.901/0.900\n"
     ]
    },
    {
     "data": {
      "image/png": "[encoded data removed]",
      "text/plain": [
       "<Figure size 432x288 with 1 Axes>"
      ]
     },
     "metadata": {
      "needs_background": "light"
     },
     "output_type": "display_data"
    }
   ],
   "source": [
    "# Loop through different k values to see which has the highest accuracy\n",
    "# Note: We only use odd numbers because we don't want any ties\n",
    "train_scores = []\n",
    "test_scores = []\n",
    "for k in range(1, 20, 2):\n",
    "    knn = KNeighborsClassifier(n_neighbors=k)\n",
    "    knn.fit(X_train_scaled, y_train)\n",
    "    train_score = knn.score(X_train_scaled, y_train)\n",
    "    test_score = knn.score(X_test_scaled, y_test)\n",
    "    train_scores.append(train_score)\n",
    "    test_scores.append(test_score)\n",
    "    print(f\"k: {k}, Train/Test Score: {train_score:.3f}/{test_score:.3f}\")\n",
    "    \n",
    "    \n",
    "plt.plot(range(1, 20, 2), train_scores, marker='o')\n",
    "plt.plot(range(1, 20, 2), test_scores, marker=\"x\")\n",
    "plt.xlabel(\"k neighbors\")\n",
    "plt.ylabel(\"Testing accuracy Score\")\n",
    "plt.show()"
   ]
  },
  {
   "cell_type": "code",
   "execution_count": 74,
   "metadata": {},
   "outputs": [
    {
     "name": "stdout",
     "output_type": "stream",
     "text": [
      "k=17 Test Acc: 0.900\n"
     ]
    }
   ],
   "source": [
    "# Note that k: 17 seems to be the best choice for this dataset\n",
    "knn = KNeighborsClassifier(n_neighbors=17)\n",
    "knn.fit(X_train_scaled, y_train)\n",
    "print('k=17 Test Acc: %.3f' % knn.score(X_test_scaled, y_test))"
   ]
  },
  {
   "cell_type": "markdown",
   "metadata": {},
   "source": [
    "### Book Category: Health & Wellness"
   ]
  },
  {
   "cell_type": "code",
   "execution_count": 75,
   "metadata": {},
   "outputs": [
    {
     "name": "stdout",
     "output_type": "stream",
     "text": [
      "(192800, 5) (192800, 1)\n"
     ]
    }
   ],
   "source": [
    "X = audible[[\"Gender_Female\", \"Age\", \"Rating\", \"Total No. of Ratings\", \"ZipCode\"]]\n",
    "y = audible[\"Categories_Health & Wellness\"].values.reshape(-1, 1)\n",
    "print(X.shape, y.shape)"
   ]
  },
  {
   "cell_type": "code",
   "execution_count": 76,
   "metadata": {},
   "outputs": [
    {
     "data": {
      "text/html": [
       "<div>\n",
       "<style scoped>\n",
       "    .dataframe tbody tr th:only-of-type {\n",
       "        vertical-align: middle;\n",
       "    }\n",
       "\n",
       "    .dataframe tbody tr th {\n",
       "        vertical-align: top;\n",
       "    }\n",
       "\n",
       "    .dataframe thead th {\n",
       "        text-align: right;\n",
       "    }\n",
       "</style>\n",
       "<table border=\"1\" class=\"dataframe\">\n",
       "  <thead>\n",
       "    <tr style=\"text-align: right;\">\n",
       "      <th></th>\n",
       "      <th>Gender_Female</th>\n",
       "      <th>Age</th>\n",
       "      <th>Rating</th>\n",
       "      <th>Total No. of Ratings</th>\n",
       "      <th>ZipCode</th>\n",
       "    </tr>\n",
       "  </thead>\n",
       "  <tbody>\n",
       "    <tr>\n",
       "      <th>160187</th>\n",
       "      <td>1</td>\n",
       "      <td>74</td>\n",
       "      <td>4.8</td>\n",
       "      <td>14</td>\n",
       "      <td>80214</td>\n",
       "    </tr>\n",
       "    <tr>\n",
       "      <th>190722</th>\n",
       "      <td>0</td>\n",
       "      <td>26</td>\n",
       "      <td>4.9</td>\n",
       "      <td>6060</td>\n",
       "      <td>80213</td>\n",
       "    </tr>\n",
       "    <tr>\n",
       "      <th>104429</th>\n",
       "      <td>1</td>\n",
       "      <td>20</td>\n",
       "      <td>4.3</td>\n",
       "      <td>6709</td>\n",
       "      <td>80215</td>\n",
       "    </tr>\n",
       "    <tr>\n",
       "      <th>15567</th>\n",
       "      <td>1</td>\n",
       "      <td>22</td>\n",
       "      <td>4.0</td>\n",
       "      <td>4</td>\n",
       "      <td>80221</td>\n",
       "    </tr>\n",
       "    <tr>\n",
       "      <th>25679</th>\n",
       "      <td>1</td>\n",
       "      <td>57</td>\n",
       "      <td>4.8</td>\n",
       "      <td>693</td>\n",
       "      <td>80220</td>\n",
       "    </tr>\n",
       "  </tbody>\n",
       "</table>\n",
       "</div>"
      ],
      "text/plain": [
       "        Gender_Female  Age  Rating  Total No. of Ratings  ZipCode\n",
       "160187              1   74     4.8                    14    80214\n",
       "190722              0   26     4.9                  6060    80213\n",
       "104429              1   20     4.3                  6709    80215\n",
       "15567               1   22     4.0                     4    80221\n",
       "25679               1   57     4.8                   693    80220"
      ]
     },
     "execution_count": 76,
     "metadata": {},
     "output_type": "execute_result"
    }
   ],
   "source": [
    "# Split the data into training and testing\n",
    "from sklearn.model_selection import train_test_split\n",
    "\n",
    "X_train, X_test, y_train, y_test = train_test_split(X, y, test_size= .4)\n",
    "X_train.head()"
   ]
  },
  {
   "cell_type": "code",
   "execution_count": 77,
   "metadata": {},
   "outputs": [],
   "source": [
    "# Create a StandardScater model and fit it to the training data\n",
    "from sklearn.preprocessing import StandardScaler\n",
    "X_scaler = StandardScaler().fit(X_train)\n",
    "y_scaler = StandardScaler().fit(y_train)"
   ]
  },
  {
   "cell_type": "code",
   "execution_count": 78,
   "metadata": {},
   "outputs": [],
   "source": [
    "# Transform the training and testing data using the X_scaler and y_scaler models\n",
    "X_train_scaled = X_scaler.transform(X_train)\n",
    "X_test_scaled = X_scaler.transform(X_test)\n",
    "y_train_scaled = y_scaler.transform(y_train)\n",
    "y_test_scaled = y_scaler.transform(y_test)"
   ]
  },
  {
   "cell_type": "code",
   "execution_count": 79,
   "metadata": {},
   "outputs": [
    {
     "data": {
      "text/plain": [
       "LinearRegression()"
      ]
     },
     "execution_count": 79,
     "metadata": {},
     "output_type": "execute_result"
    }
   ],
   "source": [
    "# Create a LinearRegression model and fit it to the scaled training data\n",
    "from sklearn.linear_model import LinearRegression\n",
    "model = LinearRegression()\n",
    "model.fit(X_train_scaled, y_train_scaled)"
   ]
  },
  {
   "cell_type": "code",
   "execution_count": 80,
   "metadata": {},
   "outputs": [
    {
     "data": {
      "image/png": "[encoded data removed]",
      "text/plain": [
       "<Figure size 432x288 with 1 Axes>"
      ]
     },
     "metadata": {
      "needs_background": "light"
     },
     "output_type": "display_data"
    }
   ],
   "source": [
    " #Make predictions using a fitted model\n",
    "# Plot the difference between the model predicted values and actual y values, versus the model predicted values\n",
    "# Hint: You can predict values of X training and testing data using the model.predict() method on a fitted model\n",
    "\n",
    "predictions = model.predict(X_test_scaled)\n",
    "model.fit(X_train_scaled, y_train_scaled)\n",
    "plt.scatter(model.predict(X_train_scaled), model.predict(X_train_scaled) - y_train_scaled, c=\"blue\", label=\"Training Data\")\n",
    "plt.scatter(model.predict(X_test_scaled), model.predict(X_test_scaled) - y_test_scaled, c=\"orange\", label=\"Testing Data\")\n",
    "plt.legend()\n",
    "plt.hlines(y=0, xmin=y_test_scaled.min(), xmax=y_test_scaled.max())\n",
    "plt.title(\"Residual Plot\")\n",
    "plt.show()"
   ]
  },
  {
   "cell_type": "code",
   "execution_count": 81,
   "metadata": {},
   "outputs": [
    {
     "name": "stdout",
     "output_type": "stream",
     "text": [
      "MSE: 0.9965484174142907, R2: 0.013849156162507814\n"
     ]
    }
   ],
   "source": [
    "# Used X_test_scaled, y_test_scaled, and model.predict(X_test_scaled) to calculate MSE and R2\n",
    "\n",
    "from sklearn.metrics import mean_squared_error\n",
    "\n",
    "MSE = mean_squared_error(y_test_scaled, predictions)\n",
    "r2 = model.score(X_test_scaled, y_test_scaled)\n",
    "\n",
    "print(f\"MSE: {MSE}, R2: {r2}\")"
   ]
  },
  {
   "cell_type": "code",
   "execution_count": 82,
   "metadata": {},
   "outputs": [
    {
     "name": "stdout",
     "output_type": "stream",
     "text": [
      "k: 1, Train/Test Score: 0.999/0.847\n",
      "k: 3, Train/Test Score: 0.924/0.888\n",
      "k: 5, Train/Test Score: 0.915/0.900\n",
      "k: 7, Train/Test Score: 0.912/0.905\n",
      "k: 9, Train/Test Score: 0.910/0.906\n",
      "k: 11, Train/Test Score: 0.910/0.908\n",
      "k: 13, Train/Test Score: 0.910/0.908\n",
      "k: 15, Train/Test Score: 0.910/0.908\n",
      "k: 17, Train/Test Score: 0.910/0.909\n",
      "k: 19, Train/Test Score: 0.910/0.908\n"
     ]
    },
    {
     "data": {
      "image/png": "[encoded data removed]",
      "text/plain": [
       "<Figure size 432x288 with 1 Axes>"
      ]
     },
     "metadata": {
      "needs_background": "light"
     },
     "output_type": "display_data"
    }
   ],
   "source": [
    "# Loop through different k values to see which has the highest accuracy\n",
    "# Note: We only use odd numbers because we don't want any ties\n",
    "train_scores = []\n",
    "test_scores = []\n",
    "for k in range(1, 20, 2):\n",
    "    knn = KNeighborsClassifier(n_neighbors=k)\n",
    "    knn.fit(X_train_scaled, y_train)\n",
    "    train_score = knn.score(X_train_scaled, y_train)\n",
    "    test_score = knn.score(X_test_scaled, y_test)\n",
    "    train_scores.append(train_score)\n",
    "    test_scores.append(test_score)\n",
    "    print(f\"k: {k}, Train/Test Score: {train_score:.3f}/{test_score:.3f}\")\n",
    "    \n",
    "    \n",
    "plt.plot(range(1, 20, 2), train_scores, marker='o')\n",
    "plt.plot(range(1, 20, 2), test_scores, marker=\"x\")\n",
    "plt.xlabel(\"k neighbors\")\n",
    "plt.ylabel(\"Testing accuracy Score\")\n",
    "plt.show()"
   ]
  },
  {
   "cell_type": "code",
   "execution_count": 83,
   "metadata": {},
   "outputs": [
    {
     "name": "stdout",
     "output_type": "stream",
     "text": [
      "k=17 Test Acc: 0.909\n"
     ]
    }
   ],
   "source": [
    "# Note that k: 17 seems to be the best choice for this dataset\n",
    "knn = KNeighborsClassifier(n_neighbors=17)\n",
    "knn.fit(X_train_scaled, y_train)\n",
    "print('k=17 Test Acc: %.3f' % knn.score(X_test_scaled, y_test))"
   ]
  },
  {
   "cell_type": "markdown",
   "metadata": {},
   "source": [
    "### Book Categories: SciFi & Fantasy"
   ]
  },
  {
   "cell_type": "code",
   "execution_count": 84,
   "metadata": {},
   "outputs": [
    {
     "name": "stdout",
     "output_type": "stream",
     "text": [
      "(192800, 5) (192800, 1)\n"
     ]
    }
   ],
   "source": [
    "X = audible[[\"Gender_Female\", \"Age\", \"Rating\", \"Total No. of Ratings\", \"ZipCode\"]]\n",
    "y = audible[\"Categories_Science Fiction & Fantasy\"].values.reshape(-1, 1)\n",
    "print(X.shape, y.shape)"
   ]
  },
  {
   "cell_type": "code",
   "execution_count": 85,
   "metadata": {},
   "outputs": [
    {
     "data": {
      "text/html": [
       "<div>\n",
       "<style scoped>\n",
       "    .dataframe tbody tr th:only-of-type {\n",
       "        vertical-align: middle;\n",
       "    }\n",
       "\n",
       "    .dataframe tbody tr th {\n",
       "        vertical-align: top;\n",
       "    }\n",
       "\n",
       "    .dataframe thead th {\n",
       "        text-align: right;\n",
       "    }\n",
       "</style>\n",
       "<table border=\"1\" class=\"dataframe\">\n",
       "  <thead>\n",
       "    <tr style=\"text-align: right;\">\n",
       "      <th></th>\n",
       "      <th>Gender_Female</th>\n",
       "      <th>Age</th>\n",
       "      <th>Rating</th>\n",
       "      <th>Total No. of Ratings</th>\n",
       "      <th>ZipCode</th>\n",
       "    </tr>\n",
       "  </thead>\n",
       "  <tbody>\n",
       "    <tr>\n",
       "      <th>71849</th>\n",
       "      <td>1</td>\n",
       "      <td>22</td>\n",
       "      <td>4.5</td>\n",
       "      <td>426</td>\n",
       "      <td>80211</td>\n",
       "    </tr>\n",
       "    <tr>\n",
       "      <th>23751</th>\n",
       "      <td>0</td>\n",
       "      <td>47</td>\n",
       "      <td>4.7</td>\n",
       "      <td>3550</td>\n",
       "      <td>80203</td>\n",
       "    </tr>\n",
       "    <tr>\n",
       "      <th>140407</th>\n",
       "      <td>0</td>\n",
       "      <td>44</td>\n",
       "      <td>4.7</td>\n",
       "      <td>2505</td>\n",
       "      <td>80221</td>\n",
       "    </tr>\n",
       "    <tr>\n",
       "      <th>99319</th>\n",
       "      <td>0</td>\n",
       "      <td>71</td>\n",
       "      <td>4.2</td>\n",
       "      <td>390</td>\n",
       "      <td>80218</td>\n",
       "    </tr>\n",
       "    <tr>\n",
       "      <th>191361</th>\n",
       "      <td>0</td>\n",
       "      <td>58</td>\n",
       "      <td>4.5</td>\n",
       "      <td>40</td>\n",
       "      <td>80237</td>\n",
       "    </tr>\n",
       "  </tbody>\n",
       "</table>\n",
       "</div>"
      ],
      "text/plain": [
       "        Gender_Female  Age  Rating  Total No. of Ratings  ZipCode\n",
       "71849               1   22     4.5                   426    80211\n",
       "23751               0   47     4.7                  3550    80203\n",
       "140407              0   44     4.7                  2505    80221\n",
       "99319               0   71     4.2                   390    80218\n",
       "191361              0   58     4.5                    40    80237"
      ]
     },
     "execution_count": 85,
     "metadata": {},
     "output_type": "execute_result"
    }
   ],
   "source": [
    "# Split the data into training and testing\n",
    "from sklearn.model_selection import train_test_split\n",
    "\n",
    "X_train, X_test, y_train, y_test = train_test_split(X, y, test_size= .4)\n",
    "X_train.head()"
   ]
  },
  {
   "cell_type": "code",
   "execution_count": 86,
   "metadata": {},
   "outputs": [],
   "source": [
    "# Create a StandardScater model and fit it to the training data\n",
    "from sklearn.preprocessing import StandardScaler\n",
    "X_scaler = StandardScaler().fit(X_train)\n",
    "y_scaler = StandardScaler().fit(y_train)"
   ]
  },
  {
   "cell_type": "code",
   "execution_count": 98,
   "metadata": {},
   "outputs": [],
   "source": [
    "# Transform the training and testing data using the X_scaler and y_scaler models\n",
    "X_train_scaled = X_scaler.transform(X_train)\n",
    "X_test_scaled = X_scaler.transform(X_test)\n",
    "y_train_scaled = y_scaler.transform(y_train)\n",
    "y_test_scaled = y_scaler.transform(y_test)"
   ]
  },
  {
   "cell_type": "code",
   "execution_count": 88,
   "metadata": {},
   "outputs": [
    {
     "data": {
      "text/plain": [
       "LinearRegression()"
      ]
     },
     "execution_count": 88,
     "metadata": {},
     "output_type": "execute_result"
    }
   ],
   "source": [
    "# Create a LinearRegression model and fit it to the scaled training data\n",
    "from sklearn.linear_model import LinearRegression\n",
    "model = LinearRegression()\n",
    "model.fit(X_train_scaled, y_train_scaled)"
   ]
  },
  {
   "cell_type": "code",
   "execution_count": 89,
   "metadata": {},
   "outputs": [
    {
     "data": {
      "image/png": "[encoded data removed]",
      "text/plain": [
       "<Figure size 432x288 with 1 Axes>"
      ]
     },
     "metadata": {
      "needs_background": "light"
     },
     "output_type": "display_data"
    }
   ],
   "source": [
    " #Make predictions using a fitted model\n",
    "# Plot the difference between the model predicted values and actual y values, versus the model predicted values\n",
    "# Hint: You can predict values of X training and testing data using the model.predict() method on a fitted model\n",
    "\n",
    "predictions = model.predict(X_test_scaled)\n",
    "model.fit(X_train_scaled, y_train_scaled)\n",
    "plt.scatter(model.predict(X_train_scaled), model.predict(X_train_scaled) - y_train_scaled, c=\"blue\", label=\"Training Data\")\n",
    "plt.scatter(model.predict(X_test_scaled), model.predict(X_test_scaled) - y_test_scaled, c=\"orange\", label=\"Testing Data\")\n",
    "plt.legend()\n",
    "plt.hlines(y=0, xmin=y_test_scaled.min(), xmax=y_test_scaled.max())\n",
    "plt.title(\"Residual Plot\")\n",
    "plt.show()"
   ]
  },
  {
   "cell_type": "code",
   "execution_count": 90,
   "metadata": {},
   "outputs": [
    {
     "name": "stdout",
     "output_type": "stream",
     "text": [
      "MSE: 0.9995794936004384, R2: 0.021477544740150956\n"
     ]
    }
   ],
   "source": [
    "# Used X_test_scaled, y_test_scaled, and model.predict(X_test_scaled) to calculate MSE and R2\n",
    "\n",
    "from sklearn.metrics import mean_squared_error\n",
    "\n",
    "MSE = mean_squared_error(y_test_scaled, predictions)\n",
    "r2 = model.score(X_test_scaled, y_test_scaled)\n",
    "\n",
    "print(f\"MSE: {MSE}, R2: {r2}\")"
   ]
  },
  {
   "cell_type": "code",
   "execution_count": 91,
   "metadata": {},
   "outputs": [
    {
     "name": "stdout",
     "output_type": "stream",
     "text": [
      "k: 1, Train/Test Score: 0.999/0.870\n",
      "k: 3, Train/Test Score: 0.935/0.902\n",
      "k: 5, Train/Test Score: 0.925/0.910\n",
      "k: 7, Train/Test Score: 0.921/0.912\n",
      "k: 9, Train/Test Score: 0.920/0.913\n",
      "k: 11, Train/Test Score: 0.919/0.914\n",
      "k: 13, Train/Test Score: 0.919/0.914\n",
      "k: 15, Train/Test Score: 0.919/0.914\n",
      "k: 17, Train/Test Score: 0.918/0.915\n",
      "k: 19, Train/Test Score: 0.918/0.915\n"
     ]
    },
    {
     "data": {
      "image/png": "[encoded data removed]",
      "text/plain": [
       "<Figure size 432x288 with 1 Axes>"
      ]
     },
     "metadata": {
      "needs_background": "light"
     },
     "output_type": "display_data"
    }
   ],
   "source": [
    "# Loop through different k values to see which has the highest accuracy\n",
    "# Note: We only use odd numbers because we don't want any ties\n",
    "train_scores = []\n",
    "test_scores = []\n",
    "for k in range(1, 20, 2):\n",
    "    knn = KNeighborsClassifier(n_neighbors=k)\n",
    "    knn.fit(X_train_scaled, y_train)\n",
    "    train_score = knn.score(X_train_scaled, y_train)\n",
    "    test_score = knn.score(X_test_scaled, y_test)\n",
    "    train_scores.append(train_score)\n",
    "    test_scores.append(test_score)\n",
    "    print(f\"k: {k}, Train/Test Score: {train_score:.3f}/{test_score:.3f}\")\n",
    "    \n",
    "    \n",
    "plt.plot(range(1, 20, 2), train_scores, marker='o')\n",
    "plt.plot(range(1, 20, 2), test_scores, marker=\"x\")\n",
    "plt.xlabel(\"k neighbors\")\n",
    "plt.ylabel(\"Testing accuracy Score\")\n",
    "plt.show()"
   ]
  },
  {
   "cell_type": "code",
   "execution_count": 92,
   "metadata": {},
   "outputs": [
    {
     "name": "stdout",
     "output_type": "stream",
     "text": [
      "k=17 Test Acc: 0.915\n"
     ]
    }
   ],
   "source": [
    "# Note that k: 17 seems to be the best choice for this dataset\n",
    "knn = KNeighborsClassifier(n_neighbors=17)\n",
    "knn.fit(X_train_scaled, y_train)\n",
    "print('k=17 Test Acc: %.3f' % knn.score(X_test_scaled, y_test))"
   ]
  },
  {
   "cell_type": "markdown",
   "metadata": {},
   "source": [
    "### Book Categories: Biography"
   ]
  },
  {
   "cell_type": "code",
   "execution_count": 95,
   "metadata": {},
   "outputs": [
    {
     "name": "stdout",
     "output_type": "stream",
     "text": [
      "(192800, 5) (192800, 1)\n"
     ]
    }
   ],
   "source": [
    "X = audible[[\"Gender_Female\", \"Age\", \"Rating\", \"Total No. of Ratings\", \"ZipCode\"]]\n",
    "y = audible[\"Categories_Biographies & Memoirs\"].values.reshape(-1, 1)\n",
    "print(X.shape, y.shape)"
   ]
  },
  {
   "cell_type": "code",
   "execution_count": 96,
   "metadata": {},
   "outputs": [
    {
     "data": {
      "text/html": [
       "<div>\n",
       "<style scoped>\n",
       "    .dataframe tbody tr th:only-of-type {\n",
       "        vertical-align: middle;\n",
       "    }\n",
       "\n",
       "    .dataframe tbody tr th {\n",
       "        vertical-align: top;\n",
       "    }\n",
       "\n",
       "    .dataframe thead th {\n",
       "        text-align: right;\n",
       "    }\n",
       "</style>\n",
       "<table border=\"1\" class=\"dataframe\">\n",
       "  <thead>\n",
       "    <tr style=\"text-align: right;\">\n",
       "      <th></th>\n",
       "      <th>Gender_Female</th>\n",
       "      <th>Age</th>\n",
       "      <th>Rating</th>\n",
       "      <th>Total No. of Ratings</th>\n",
       "      <th>ZipCode</th>\n",
       "    </tr>\n",
       "  </thead>\n",
       "  <tbody>\n",
       "    <tr>\n",
       "      <th>145708</th>\n",
       "      <td>1</td>\n",
       "      <td>63</td>\n",
       "      <td>4.6</td>\n",
       "      <td>2219</td>\n",
       "      <td>80214</td>\n",
       "    </tr>\n",
       "    <tr>\n",
       "      <th>188007</th>\n",
       "      <td>0</td>\n",
       "      <td>53</td>\n",
       "      <td>4.8</td>\n",
       "      <td>43840</td>\n",
       "      <td>80232</td>\n",
       "    </tr>\n",
       "    <tr>\n",
       "      <th>46024</th>\n",
       "      <td>0</td>\n",
       "      <td>24</td>\n",
       "      <td>4.3</td>\n",
       "      <td>6</td>\n",
       "      <td>80210</td>\n",
       "    </tr>\n",
       "    <tr>\n",
       "      <th>123975</th>\n",
       "      <td>1</td>\n",
       "      <td>57</td>\n",
       "      <td>4.8</td>\n",
       "      <td>18014</td>\n",
       "      <td>80223</td>\n",
       "    </tr>\n",
       "    <tr>\n",
       "      <th>63423</th>\n",
       "      <td>1</td>\n",
       "      <td>43</td>\n",
       "      <td>4.7</td>\n",
       "      <td>1415</td>\n",
       "      <td>80238</td>\n",
       "    </tr>\n",
       "  </tbody>\n",
       "</table>\n",
       "</div>"
      ],
      "text/plain": [
       "        Gender_Female  Age  Rating  Total No. of Ratings  ZipCode\n",
       "145708              1   63     4.6                  2219    80214\n",
       "188007              0   53     4.8                 43840    80232\n",
       "46024               0   24     4.3                     6    80210\n",
       "123975              1   57     4.8                 18014    80223\n",
       "63423               1   43     4.7                  1415    80238"
      ]
     },
     "execution_count": 96,
     "metadata": {},
     "output_type": "execute_result"
    }
   ],
   "source": [
    "# Split the data into training and testing\n",
    "from sklearn.model_selection import train_test_split\n",
    "\n",
    "X_train, X_test, y_train, y_test = train_test_split(X, y, test_size= .4)\n",
    "X_train.head()"
   ]
  },
  {
   "cell_type": "code",
   "execution_count": 97,
   "metadata": {},
   "outputs": [],
   "source": [
    "# Create a StandardScater model and fit it to the training data\n",
    "from sklearn.preprocessing import StandardScaler\n",
    "X_scaler = StandardScaler().fit(X_train)\n",
    "y_scaler = StandardScaler().fit(y_train)"
   ]
  },
  {
   "cell_type": "code",
   "execution_count": 99,
   "metadata": {},
   "outputs": [],
   "source": [
    "# Transform the training and testing data using the X_scaler and y_scaler models\n",
    "X_train_scaled = X_scaler.transform(X_train)\n",
    "X_test_scaled = X_scaler.transform(X_test)\n",
    "y_train_scaled = y_scaler.transform(y_train)\n",
    "y_test_scaled = y_scaler.transform(y_test)"
   ]
  },
  {
   "cell_type": "code",
   "execution_count": 100,
   "metadata": {},
   "outputs": [
    {
     "data": {
      "text/plain": [
       "LinearRegression()"
      ]
     },
     "execution_count": 100,
     "metadata": {},
     "output_type": "execute_result"
    }
   ],
   "source": [
    "# Create a LinearRegression model and fit it to the scaled training data\n",
    "from sklearn.linear_model import LinearRegression\n",
    "model = LinearRegression()\n",
    "model.fit(X_train_scaled, y_train_scaled)"
   ]
  },
  {
   "cell_type": "code",
   "execution_count": 101,
   "metadata": {},
   "outputs": [
    {
     "data": {
      "image/png": "[encoded data removed]",
      "text/plain": [
       "<Figure size 432x288 with 1 Axes>"
      ]
     },
     "metadata": {
      "needs_background": "light"
     },
     "output_type": "display_data"
    }
   ],
   "source": [
    " #Make predictions using a fitted model\n",
    "# Plot the difference between the model predicted values and actual y values, versus the model predicted values\n",
    "# Hint: You can predict values of X training and testing data using the model.predict() method on a fitted model\n",
    "\n",
    "predictions = model.predict(X_test_scaled)\n",
    "model.fit(X_train_scaled, y_train_scaled)\n",
    "plt.scatter(model.predict(X_train_scaled), model.predict(X_train_scaled) - y_train_scaled, c=\"blue\", label=\"Training Data\")\n",
    "plt.scatter(model.predict(X_test_scaled), model.predict(X_test_scaled) - y_test_scaled, c=\"orange\", label=\"Testing Data\")\n",
    "plt.legend()\n",
    "plt.hlines(y=0, xmin=y_test_scaled.min(), xmax=y_test_scaled.max())\n",
    "plt.title(\"Residual Plot\")\n",
    "plt.show()"
   ]
  },
  {
   "cell_type": "code",
   "execution_count": 102,
   "metadata": {},
   "outputs": [
    {
     "name": "stdout",
     "output_type": "stream",
     "text": [
      "MSE: 0.988566810306111, R2: 0.0018210178488410333\n"
     ]
    }
   ],
   "source": [
    "# Used X_test_scaled, y_test_scaled, and model.predict(X_test_scaled) to calculate MSE and R2\n",
    "\n",
    "from sklearn.metrics import mean_squared_error\n",
    "\n",
    "MSE = mean_squared_error(y_test_scaled, predictions)\n",
    "r2 = model.score(X_test_scaled, y_test_scaled)\n",
    "\n",
    "print(f\"MSE: {MSE}, R2: {r2}\")"
   ]
  },
  {
   "cell_type": "code",
   "execution_count": 103,
   "metadata": {},
   "outputs": [
    {
     "name": "stdout",
     "output_type": "stream",
     "text": [
      "k: 1, Train/Test Score: 1.000/0.873\n",
      "k: 3, Train/Test Score: 0.936/0.909\n",
      "k: 5, Train/Test Score: 0.928/0.919\n",
      "k: 7, Train/Test Score: 0.925/0.922\n",
      "k: 9, Train/Test Score: 0.924/0.923\n",
      "k: 11, Train/Test Score: 0.923/0.923\n",
      "k: 13, Train/Test Score: 0.923/0.923\n",
      "k: 15, Train/Test Score: 0.923/0.923\n",
      "k: 17, Train/Test Score: 0.923/0.923\n",
      "k: 19, Train/Test Score: 0.923/0.923\n"
     ]
    },
    {
     "data": {
      "image/png": "[encoded data removed]",
      "text/plain": [
       "<Figure size 432x288 with 1 Axes>"
      ]
     },
     "metadata": {
      "needs_background": "light"
     },
     "output_type": "display_data"
    }
   ],
   "source": [
    "# Loop through different k values to see which has the highest accuracy\n",
    "# Note: We only use odd numbers because we don't want any ties\n",
    "train_scores = []\n",
    "test_scores = []\n",
    "for k in range(1, 20, 2):\n",
    "    knn = KNeighborsClassifier(n_neighbors=k)\n",
    "    knn.fit(X_train_scaled, y_train)\n",
    "    train_score = knn.score(X_train_scaled, y_train)\n",
    "    test_score = knn.score(X_test_scaled, y_test)\n",
    "    train_scores.append(train_score)\n",
    "    test_scores.append(test_score)\n",
    "    print(f\"k: {k}, Train/Test Score: {train_score:.3f}/{test_score:.3f}\")\n",
    "    \n",
    "    \n",
    "plt.plot(range(1, 20, 2), train_scores, marker='o')\n",
    "plt.plot(range(1, 20, 2), test_scores, marker=\"x\")\n",
    "plt.xlabel(\"k neighbors\")\n",
    "plt.ylabel(\"Testing accuracy Score\")\n",
    "plt.show()"
   ]
  },
  {
   "cell_type": "code",
   "execution_count": 115,
   "metadata": {},
   "outputs": [
    {
     "name": "stdout",
     "output_type": "stream",
     "text": [
      "k=17 Test Acc: 0.801\n"
     ]
    }
   ],
   "source": [
    "# Note that k: 17 seems to be the best choice for this dataset\n",
    "knn = KNeighborsClassifier(n_neighbors=17)\n",
    "knn.fit(X_train_scaled, y_train)\n",
    "print('k=17 Test Acc: %.3f' % knn.score(X_test_scaled, y_test))"
   ]
  },
  {
   "cell_type": "markdown",
   "metadata": {},
   "source": [
    "# User High Review Demographic Importance"
   ]
  },
  {
   "cell_type": "markdown",
   "metadata": {},
   "source": [
    "### Used Random Forest to classify the feature, demographic importances based on high reviews"
   ]
  },
  {
   "cell_type": "code",
   "execution_count": 151,
   "metadata": {},
   "outputs": [],
   "source": [
    "target = audible[\"Review_High\"]\n",
    "target_names = [\"negative\", \"positive\"]"
   ]
  },
  {
   "cell_type": "code",
   "execution_count": 152,
   "metadata": {},
   "outputs": [
    {
     "data": {
      "text/html": [
       "<div>\n",
       "<style scoped>\n",
       "    .dataframe tbody tr th:only-of-type {\n",
       "        vertical-align: middle;\n",
       "    }\n",
       "\n",
       "    .dataframe tbody tr th {\n",
       "        vertical-align: top;\n",
       "    }\n",
       "\n",
       "    .dataframe thead th {\n",
       "        text-align: right;\n",
       "    }\n",
       "</style>\n",
       "<table border=\"1\" class=\"dataframe\">\n",
       "  <thead>\n",
       "    <tr style=\"text-align: right;\">\n",
       "      <th></th>\n",
       "      <th>Rating</th>\n",
       "      <th>Total No. of Ratings</th>\n",
       "      <th>Price</th>\n",
       "      <th>Age</th>\n",
       "      <th>Income</th>\n",
       "      <th>ZipCode</th>\n",
       "      <th>Gender_Female</th>\n",
       "    </tr>\n",
       "  </thead>\n",
       "  <tbody>\n",
       "    <tr>\n",
       "      <th>0</th>\n",
       "      <td>4.9</td>\n",
       "      <td>182445</td>\n",
       "      <td>24.95</td>\n",
       "      <td>67</td>\n",
       "      <td>102000</td>\n",
       "      <td>80207</td>\n",
       "      <td>1</td>\n",
       "    </tr>\n",
       "    <tr>\n",
       "      <th>1</th>\n",
       "      <td>4.9</td>\n",
       "      <td>182445</td>\n",
       "      <td>24.95</td>\n",
       "      <td>67</td>\n",
       "      <td>102000</td>\n",
       "      <td>80236</td>\n",
       "      <td>1</td>\n",
       "    </tr>\n",
       "    <tr>\n",
       "      <th>2</th>\n",
       "      <td>4.9</td>\n",
       "      <td>182445</td>\n",
       "      <td>24.95</td>\n",
       "      <td>65</td>\n",
       "      <td>111200</td>\n",
       "      <td>80217</td>\n",
       "      <td>1</td>\n",
       "    </tr>\n",
       "    <tr>\n",
       "      <th>3</th>\n",
       "      <td>4.9</td>\n",
       "      <td>182445</td>\n",
       "      <td>24.95</td>\n",
       "      <td>52</td>\n",
       "      <td>107040</td>\n",
       "      <td>80226</td>\n",
       "      <td>0</td>\n",
       "    </tr>\n",
       "    <tr>\n",
       "      <th>4</th>\n",
       "      <td>4.9</td>\n",
       "      <td>182445</td>\n",
       "      <td>24.95</td>\n",
       "      <td>50</td>\n",
       "      <td>116000</td>\n",
       "      <td>80229</td>\n",
       "      <td>0</td>\n",
       "    </tr>\n",
       "  </tbody>\n",
       "</table>\n",
       "</div>"
      ],
      "text/plain": [
       "   Rating  Total No. of Ratings  Price  Age  Income  ZipCode  Gender_Female\n",
       "0     4.9                182445  24.95   67  102000    80207              1\n",
       "1     4.9                182445  24.95   67  102000    80236              1\n",
       "2     4.9                182445  24.95   65  111200    80217              1\n",
       "3     4.9                182445  24.95   52  107040    80226              0\n",
       "4     4.9                182445  24.95   50  116000    80229              0"
      ]
     },
     "execution_count": 152,
     "metadata": {},
     "output_type": "execute_result"
    }
   ],
   "source": [
    "data = selected_features\n",
    "feature_names = data.columns\n",
    "data.head()"
   ]
  },
  {
   "cell_type": "code",
   "execution_count": 153,
   "metadata": {},
   "outputs": [],
   "source": [
    "from sklearn.model_selection import train_test_split\n",
    "X_train, X_test, y_train, y_test = train_test_split(data, target)"
   ]
  },
  {
   "cell_type": "code",
   "execution_count": 154,
   "metadata": {},
   "outputs": [
    {
     "data": {
      "text/plain": [
       "0.8489211618257262"
      ]
     },
     "execution_count": 154,
     "metadata": {},
     "output_type": "execute_result"
    }
   ],
   "source": [
    "clf = tree.DecisionTreeClassifier()\n",
    "clf = clf.fit(X_train, y_train)\n",
    "clf.score(X_test, y_test)"
   ]
  },
  {
   "cell_type": "code",
   "execution_count": 155,
   "metadata": {},
   "outputs": [
    {
     "data": {
      "text/plain": [
       "0.9161203319502075"
      ]
     },
     "execution_count": 155,
     "metadata": {},
     "output_type": "execute_result"
    }
   ],
   "source": [
    "from sklearn.ensemble import RandomForestClassifier\n",
    "rf = RandomForestClassifier(n_estimators=200)\n",
    "rf = rf.fit(X_train, y_train)\n",
    "rf.score(X_test, y_test)"
   ]
  },
  {
   "cell_type": "code",
   "execution_count": 156,
   "metadata": {},
   "outputs": [
    {
     "data": {
      "text/plain": [
       "[(0.23042211528312373, 'ZipCode'),\n",
       " (0.20890710948277524, 'Total No. of Ratings'),\n",
       " (0.15655149680692917, 'Price'),\n",
       " (0.1277674953490228, 'Age'),\n",
       " (0.12484754408711196, 'Income'),\n",
       " (0.11439562036594908, 'Rating'),\n",
       " (0.03710861862508806, 'Gender_Female')]"
      ]
     },
     "execution_count": 156,
     "metadata": {},
     "output_type": "execute_result"
    }
   ],
   "source": [
    "sorted(zip(rf.feature_importances_, feature_names), reverse=True)"
   ]
  },
  {
   "cell_type": "markdown",
   "metadata": {},
   "source": [
    "# Category: Literature & Fitness Demographic Importance"
   ]
  },
  {
   "cell_type": "code",
   "execution_count": 161,
   "metadata": {},
   "outputs": [
    {
     "data": {
      "text/plain": [
       "0.8037759336099585"
      ]
     },
     "execution_count": 161,
     "metadata": {},
     "output_type": "execute_result"
    }
   ],
   "source": [
    "target = audible[\"Categories_Literature & Fiction\"]\n",
    "target_names = [\"negative\", \"positive\"]\n",
    "\n",
    "selected_features = audible[['Age', 'Income', 'ZipCode', 'Gender_Female']]\n",
    "data = selected_features\n",
    "feature_names = data.columns\n",
    "\n",
    "from sklearn.model_selection import train_test_split\n",
    "X_train, X_test, y_train, y_test = train_test_split(data, target)\n",
    "\n",
    "clf = tree.DecisionTreeClassifier()\n",
    "clf = clf.fit(X_train, y_train)\n",
    "clf.score(X_test, y_test)\n",
    "\n",
    "from sklearn.ensemble import RandomForestClassifier\n",
    "rf = RandomForestClassifier(n_estimators=200)\n",
    "rf = rf.fit(X_train, y_train)\n",
    "rf.score(X_test, y_test)"
   ]
  },
  {
   "cell_type": "code",
   "execution_count": 162,
   "metadata": {},
   "outputs": [
    {
     "data": {
      "text/plain": [
       "[(0.6843978723129087, 'ZipCode'),\n",
       " (0.12332081854088081, 'Age'),\n",
       " (0.11837547292371085, 'Income'),\n",
       " (0.07390583622249976, 'Gender_Female')]"
      ]
     },
     "execution_count": 162,
     "metadata": {},
     "output_type": "execute_result"
    }
   ],
   "source": [
    "sorted(zip(rf.feature_importances_, feature_names), reverse=True)"
   ]
  },
  {
   "cell_type": "code",
   "execution_count": null,
   "metadata": {},
   "outputs": [],
   "source": []
  }
 ],
 "metadata": {
  "kernelspec": {
   "display_name": "Python 3",
   "language": "python",
   "name": "python3"
  },
  "language_info": {
   "codemirror_mode": {
    "name": "ipython",
    "version": 3
   },
   "file_extension": ".py",
   "mimetype": "text/x-python",
   "name": "python",
   "nbconvert_exporter": "python",
   "pygments_lexer": "ipython3",
   "version": "3.8.5"
  }
 },
 "nbformat": 4,
 "nbformat_minor": 4
}
